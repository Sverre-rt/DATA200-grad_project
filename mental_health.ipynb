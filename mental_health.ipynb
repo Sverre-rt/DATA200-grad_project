{
 "cells": [
  {
   "cell_type": "code",
   "execution_count": null,
   "metadata": {},
   "outputs": [],
   "source": [
    "import pandas as pd\n",
    "import seaborn as sns\n",
    "import matplotlib.pyplot as plt"
   ]
  },
  {
   "cell_type": "code",
   "execution_count": null,
   "metadata": {},
   "outputs": [],
   "source": [
    "df_mentalhealth = pd.read_csv(\"csv_files/Anxiety_or_Depression.csv\")\n",
    "display(df_mentalhealth)"
   ]
  },
  {
   "cell_type": "code",
   "execution_count": null,
   "metadata": {},
   "outputs": [],
   "source": [
    "df_mentalhealt_byAge = df_mentalhealth.loc[df_mentalhealth[\"Group\"]==\"By Age\"] \n",
    "display(df_mentalhealt_byAge[df_mentalhealt_byAge[\"Subgroup\"] == \"18 - 29 years\"])"
   ]
  },
  {
   "cell_type": "code",
   "execution_count": null,
   "metadata": {},
   "outputs": [],
   "source": [
    "\n",
    "sns.relplot(\n",
    "    data=df_mentalhealt_byAge, x=\"Time Period\", y=\"Value\",\n",
    "    hue=\"Subgroup\", kind=\"line\",\n",
    ")\n",
    "plt.ylabel(\"Percent\")\n",
    "plt.title(\"Percent with symptoms of anxiety or depression\")"
   ]
  },
  {
   "cell_type": "code",
   "execution_count": null,
   "metadata": {},
   "outputs": [],
   "source": [
    "#Mental health among young people\n",
    "\n",
    "mental_health_subgroup = df_mentalhealt_byAge[df_mentalhealt_byAge[\"Subgroup\"] == \"18 - 29 years\"]\n",
    "\n",
    "sns.relplot(\n",
    "    data=mental_health_subgroup, x=\"Time Period\", y=\"Value\",\n",
    "    hue=\"Subgroup\", kind=\"line\",\n",
    ")\n",
    "plt.ylabel(\"Percent\")\n",
    "plt.title(\"Percent with symptoms of anxiety or depression\")"
   ]
  }
 ],
 "metadata": {
  "kernelspec": {
   "display_name": "Python 3.8.5 64-bit ('base': conda)",
   "metadata": {
    "interpreter": {
     "hash": "344443636c3027c5042750c9c609acdda283a9c43681b128a8c1053e7ad2aa7d"
    }
   },
   "name": "python3"
  },
  "language_info": {
   "codemirror_mode": {
    "name": "ipython",
    "version": 3
   },
   "file_extension": ".py",
   "mimetype": "text/x-python",
   "name": "python",
   "nbconvert_exporter": "python",
   "pygments_lexer": "ipython3",
   "version": "3.9.7"
  },
  "orig_nbformat": 2
 },
 "nbformat": 4,
 "nbformat_minor": 2
}
