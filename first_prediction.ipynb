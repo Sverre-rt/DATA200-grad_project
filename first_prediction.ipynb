{
 "cells": [
  {
   "cell_type": "code",
   "execution_count": null,
   "metadata": {},
   "outputs": [],
   "source": [
    "import pandas as pd\n",
    "import glob\n",
    "import re\n",
    "import matplotlib.pyplot as plt\n",
    "import numpy as np\n",
    "import seaborn as sns\n",
    "from zipfile import ZipFile"
   ]
  },
  {
   "cell_type": "markdown",
   "metadata": {},
   "source": [
    "## Import Covid State Restrictions"
   ]
  },
  {
   "cell_type": "code",
   "execution_count": null,
   "metadata": {},
   "outputs": [],
   "source": [
    "def init_state_social_distancing_actions(path):\n",
    "  df_master = pd.DataFrame()\n",
    "  flag = False\n",
    "  files_in_folder = glob.glob(path)\n",
    "  for filename in files_in_folder:    \n",
    "    zip_file = ZipFile(filename)\n",
    "    for text_file in zip_file.infolist():\n",
    "      # if not text_file.filename.startswith('__MACOSX/'):\n",
    "      if text_file.filename.endswith('.csv'):\n",
    "        date = re.search('\\d*-\\d*-\\d*', text_file.filename)[0]\n",
    "        if date == \"20201-06-01\":\n",
    "          date = \"2021-06-01\"\n",
    "        date_time_value = pd.to_datetime(date)\n",
    "        df = pd.read_csv(zip_file.open(text_file.filename), sep=\",\", header=0)\n",
    "        df[\"Date\"] = date_time_value\n",
    "        df.rename(columns = {'Unnamed: 0':'State'}, inplace = True)\n",
    "        df.drop((df[df.State.isin([\"United States\"])].index) | (df[df.State.isnull()].index), inplace=True)\n",
    "      if not flag:\n",
    "        df_master = df\n",
    "        flag = True\n",
    "      else:\n",
    "        df_master = pd.concat([df_master, df])\n",
    "  df_master.set_index([\"Date\", \"State\"], inplace=True)\n",
    "  df_master.sort_index(inplace=True)\n",
    "  return df_master\n",
    "\n",
    "state_social_distancing_actions = init_state_social_distancing_actions(r'**csv_files/state_social_distancing_actions.zip')"
   ]
  },
  {
   "cell_type": "code",
   "execution_count": null,
   "metadata": {},
   "outputs": [],
   "source": [
    "def clean_state_social_distancing_actions(df):\n",
    "  df = df.drop(columns=[\"Primary Election Postponement\"])\n",
    "  return df\n",
    "\n",
    "cleaned_state_social_distancing_actions = clean_state_social_distancing_actions(state_social_distancing_actions)\n",
    "cleaned_state_social_distancing_actions"
   ]
  },
  {
   "cell_type": "markdown",
   "metadata": {},
   "source": [
    "Clean up the dataframe to remove unused columns and solve for Nan fields. \n",
    "- Have to manually insert face mask requirements for recent months based on: https://statepolicies.com/data/graphs/face-masks/\n",
    "- Face mask mandate was reintroduced from Dec 15, 2021 -> Feb 15, 2022\n",
    "\n",
    "Other changes\n",
    "- Manually inserted \"No Limit\" after 2021-08-15 because missing data"
   ]
  },
  {
   "cell_type": "code",
   "execution_count": null,
   "metadata": {},
   "outputs": [],
   "source": [
    "california_restrictions_data = cleaned_state_social_distancing_actions[cleaned_state_social_distancing_actions.index.get_level_values('State').isin(['California'])]\n",
    "california_restrictions_data.reset_index(\"State\", inplace=True)\n",
    "california_restrictions_data = california_restrictions_data[~california_restrictions_data.index.duplicated(keep='first')]\n",
    "# Fill inn missing dates with rows equal the previous date with data\n",
    "days_idx = pd.date_range(start=california_restrictions_data.index[0], end=\"2022-04-18\", freq=\"D\")\n",
    "california_restrictions_data = california_restrictions_data.reindex(days_idx, method=\"pad\")\n",
    "# Update facemask data\n",
    "california_restrictions_data.loc[: \"2020-06-17\", \"Face Covering Requirement\"] = 0 # No\n",
    "california_restrictions_data.loc[\"2020-06-18\" : \"2021-06-14\", \"Face Covering Requirement\"] = 1 # Yes\n",
    "california_restrictions_data.loc[\"2021-06-15\" : \"2021-12-14\", \"Face Covering Requirement\"] = 0\n",
    "california_restrictions_data.loc[\"2021-12-15\" : \"2022-02-14\", \"Face Covering Requirement\"] = 1\n",
    "california_restrictions_data.loc[\"2022-02-15\" : , \"Face Covering Requirement\"] = 0\n",
    "# Manually insert gathering limit for missing values\n",
    "california_restrictions_data.loc[\"2021-08-16 \":, \"Large Gatherings Ban\"] = \"No Limit\"\n",
    "# Transform Large Gatherings Ban to a sevearity of the rules (1: no restrictions, 5: All gatherings prohibited)\n",
    "california_restrictions_data[\"Large Gatherings Ban\"].replace({'All Gatherings Prohibited': 5, '>50 Prohibited': 4, 'Expanded Limit to 25 or Fewer': 3, '>25 Prohibited': 3, '>10 Prohibited': 2, 'No Limit': 1}, inplace=True)\n",
    "# Set the missing restaurant values to open\n",
    "california_restrictions_data[california_restrictions_data[\"Restaurant Limits\"].isna()][\"Restaurant Limits\"] = \"Open\"\n",
    "\n",
    "ohe_restaurant_limits = pd.get_dummies(california_restrictions_data[\"Restaurant Limits\"], prefix='Restaurant Limits', columns = 'Restaurant Limits', drop_first=True)\n",
    "\n",
    "selected_ca_restrictions = pd.concat([california_restrictions_data[[\"Face Covering Requirement\", \"Large Gatherings Ban\"]], ohe_restaurant_limits], axis=1)\n",
    "\n",
    "#selected_ca_restrictions\n",
    "\n",
    "california_restrictions_data[california_restrictions_data[\"Restaurant Limits\"].notna()]\n",
    "#sns.heatmap(california_restrictions_data.isnull(),yticklabels = False, cbar = False, cmap='viridis')"
   ]
  },
  {
   "cell_type": "markdown",
   "metadata": {},
   "source": [
    "## Import Vaccination Data"
   ]
  },
  {
   "cell_type": "code",
   "execution_count": null,
   "metadata": {},
   "outputs": [],
   "source": [
    "def init_vaccination_df_from_zip(path, index_col):\n",
    "    df_master = pd.read_csv(glob.glob(path)[0], compression='zip', header=0, sep=',', index_col=index_col)\n",
    "    return df_master\n",
    "\n",
    "vaccination_df = init_vaccination_df_from_zip(r'**csv_files/COVID-19_Vaccinations_in_the_United_States_Jurisdiction.csv.zip', [\"Date\"])\n",
    "vaccination_df = vaccination_df[vaccination_df[\"Location\"] == \"CA\"]\n",
    "vaccination_df.index = pd.to_datetime(vaccination_df.index)\n",
    "vaccination_df.sort_index(inplace=True)\n",
    "vaccination_df"
   ]
  },
  {
   "cell_type": "markdown",
   "metadata": {},
   "source": [
    "Add ekstra columns to have the same time-range as the other datasets\n",
    "- Insert 0 as the number of vaccinated since no-one was vaccinated at the first date of the current df"
   ]
  },
  {
   "cell_type": "code",
   "execution_count": null,
   "metadata": {},
   "outputs": [],
   "source": [
    "days_idx = pd.date_range(start=\"2020-06-04\", end=\"2020-12-13\", freq=\"D\")\n",
    "days_with_missing_data = vaccination_df.reindex(days_idx, fill_value=0)\n",
    "days_with_missing_data[\"Location\"] = \"CA\"\n",
    "days_with_missing_data.index.names = ['Date']\n",
    "vaccination_df = days_with_missing_data.append(vaccination_df)"
   ]
  },
  {
   "cell_type": "code",
   "execution_count": null,
   "metadata": {},
   "outputs": [],
   "source": [
    "vaccination_df_administered = pd.DataFrame(vaccination_df[\"Administered\"])\n",
    "vaccination_df_administered.rename(columns={\"Administered\": \"Total Vaccines Administered\"}, inplace=True)\n",
    "vaccination_df_administered\n",
    "\n",
    "vaccination_df_administered[\"Daily vaccinations\"] = vaccination_df_administered.diff(periods=1)\n",
    "vaccination_df_administered = vaccination_df_administered[~vaccination_df_administered.index.duplicated(keep='first')]\n",
    "vaccination_df_administered.loc[\"2020-06-04\", \"Daily vaccinations\"] = 0\n",
    "vaccination_df_administered[(vaccination_df_administered[\"Daily vaccinations\"] == 0) | (vaccination_df_administered[\"Daily vaccinations\"] < 0)]\n",
    "\n",
    "# Becuase there is a mistake in the data on 2022-01-27 where the total number of vaccines suddenly drops by -1593072 we have to solve this\n",
    "# and chose to do it with setting this value to 0\n",
    "vaccination_df_administered.loc[\"2022-01-27\", \"Daily vaccinations\"] = 0\n",
    "vaccination_df_administered = vaccination_df_administered[[\"Daily vaccinations\"]]\n",
    "vaccination_df_administered"
   ]
  },
  {
   "cell_type": "markdown",
   "metadata": {},
   "source": [
    "Convert Total Vaccines from incremental to day by day number of "
   ]
  },
  {
   "cell_type": "markdown",
   "metadata": {},
   "source": [
    "## Import daily covid deaths"
   ]
  },
  {
   "cell_type": "code",
   "execution_count": null,
   "metadata": {},
   "outputs": [],
   "source": [
    "def init_daily_reports(path):\n",
    "  df_master = pd.DataFrame()\n",
    "  flag = False\n",
    "  files_in_folder = glob.glob(path)\n",
    "  for filename in files_in_folder:    \n",
    "    zip_file = ZipFile(filename)\n",
    "    for text_file in zip_file.infolist():\n",
    "      # if not text_file.filename.startswith('__MACOSX/'):\n",
    "      if text_file.filename.endswith('.csv'):\n",
    "        date = re.search('\\d*-\\d*-\\d*', text_file.filename)[0]\n",
    "        date_time_value = pd.to_datetime(date)\n",
    "        df = pd.read_csv(zip_file.open(text_file.filename), sep=\",\", header=0)\n",
    "        df[\"Date\"] = date_time_value\n",
    "        df.rename(columns = {'Province_State':'State'}, inplace = True)\n",
    "        df.drop((df[df.State.isin([\"United States\"])].index) | (df[df.State.isnull()].index), inplace=True)\n",
    "      if not flag:\n",
    "        df_master = df\n",
    "        flag = True\n",
    "      else:\n",
    "        df_master = pd.concat([df_master, df])\n",
    "  df_master.set_index([\"Date\", \"State\"], inplace=True)\n",
    "  df_master.sort_index(inplace=True)\n",
    "  return df_master\n",
    "\n",
    "covid_daily_reports = init_daily_reports(r'**csv_files/csse_covid_19_daily_reports_us.zip')\n",
    "\n",
    "covid_daily_reports = covid_daily_reports.reset_index()\n",
    "\n",
    "states = ['California']\n",
    "covid_daily_reports = covid_daily_reports[covid_daily_reports[\"State\"].isin(states) == True]\n",
    "covid_daily_reports.set_index([\"Date\"], inplace=True)"
   ]
  },
  {
   "cell_type": "code",
   "execution_count": null,
   "metadata": {},
   "outputs": [],
   "source": [
    "deaths_data = pd.DataFrame(covid_daily_reports[\"Deaths\"])\n",
    "deaths_data[\"Daily Deaths\"] = deaths_data.diff(periods=1)\n",
    "deaths_data = deaths_data[~deaths_data.index.duplicated(keep='first')]\n",
    "deaths_data.drop([\"Deaths\"], axis=1, inplace=True)\n",
    "# For all the values where the death count is less than 0 we set the value to be equal 0\n",
    "deaths_data[deaths_data[\"Daily Deaths\"] < 0] = 0"
   ]
  },
  {
   "cell_type": "markdown",
   "metadata": {},
   "source": [
    "## Import infection rate data"
   ]
  },
  {
   "cell_type": "code",
   "execution_count": null,
   "metadata": {},
   "outputs": [],
   "source": [
    "def init_infection_dataframe_from_zip(path, index_col):\n",
    "    df_master = pd.read_csv(glob.glob(path)[0], compression='zip', header=0, sep=',', index_col=index_col)\n",
    "    return df_master\n",
    "\n",
    "infected_df = init_infection_dataframe_from_zip(r'**csv_files/United_States_COVID-19_Cases_and_Deaths_by_State_over_Time.csv.zip', [\"submission_date\", \"state\"])\n",
    "infected_df.index = infected_df.index.set_levels([pd.to_datetime(infected_df.index.levels[0]), infected_df.index.levels[1]])\n",
    "infected_df_CA = infected_df[infected_df.index.get_level_values('state').isin(['CA'])]\n",
    "infected_df_CA = infected_df_CA.reset_index()\n",
    "infected_df_CA.set_index([\"submission_date\"], inplace=True)\n",
    "infected_df_CA = infected_df_CA[[\"tot_cases\"]].sort_index()"
   ]
  },
  {
   "cell_type": "markdown",
   "metadata": {},
   "source": [
    "## Import Covid Virus Variant Data"
   ]
  },
  {
   "cell_type": "code",
   "execution_count": null,
   "metadata": {},
   "outputs": [],
   "source": [
    "def init_virus_variant_df(path):\n",
    "    df = pd.read_json(glob.glob(path)[0], compression='zip', orient=\"records\")\n",
    "    df.index.names = ['County']\n",
    "    df.drop(\"plotting_dates\", axis=1, inplace=True)\n",
    "    df.drop([\"min_date\", \"max_date\"], axis=0, inplace=True)\n",
    "\n",
    "    ca_df = df[df.index == \"California\"][\"countries\"]\n",
    "    normalized = pd.json_normalize(ca_df)\n",
    "\n",
    "    full_data = []\n",
    "    for i in range(len(normalized[\"week\"][0])):\n",
    "        one_date = []\n",
    "        for col_name in normalized.columns:\n",
    "            one_date.append(normalized[col_name][0][i])\n",
    "        full_data.append(one_date)\n",
    "    df_output = pd.DataFrame(data=full_data, columns=normalized.columns)\n",
    "    df_output[\"State\"] = \"California\"\n",
    "    # Get State at front\n",
    "    cols = list(df_output.columns)\n",
    "    cols = [cols[-1]] + cols[:-1]\n",
    "    ordered_df = df_output[cols]\n",
    "    ordered_df.set_index(\"week\", inplace=True)\n",
    "\n",
    "    return ordered_df\n",
    "\n",
    "virus_variants_df = init_virus_variant_df(r'**csv_files/USAClusters_data.json.zip')"
   ]
  },
  {
   "cell_type": "markdown",
   "metadata": {},
   "source": [
    "### Clean up and format covid variants data\n",
    "- Convert virus variants to be percentage of total infections\n",
    "- Fill inn missing dates"
   ]
  },
  {
   "cell_type": "code",
   "execution_count": null,
   "metadata": {},
   "outputs": [],
   "source": [
    "virus_variants_df.iloc[:, 2:]\n",
    "variant_percentage_df = virus_variants_df.iloc[:,2:].div(virus_variants_df.total_sequences, axis=0)\n",
    "variant_percentage_df.index = pd.to_datetime(variant_percentage_df.index)\n",
    "days_index = pd.date_range(start=variant_percentage_df.index[0], end=variant_percentage_df.index[-1], freq=\"D\")\n",
    "variant_percentage_df = variant_percentage_df.reindex(days_index, method=\"pad\")\n",
    "variant_percentage_df"
   ]
  },
  {
   "cell_type": "markdown",
   "metadata": {},
   "source": [
    "## Make sure all dataframes are for the same time interval\n",
    "- selected_ca_restrictions: 2020-06-04 - 2022-04-18\t\n",
    "- vaccination_df: 2020-06-04 - 2022-04-20\n",
    "- Death data: 2020-04-12 - 2022-03-28"
   ]
  },
  {
   "cell_type": "code",
   "execution_count": null,
   "metadata": {},
   "outputs": [],
   "source": [
    "merged_data = pd.concat([selected_ca_restrictions[\"2020-06-04\" : \"2022-03-28\"], vaccination_df_administered[\"2020-06-04\" : \"2022-03-28\"], infected_df_CA[\"2020-06-04\" : \"2022-03-28\"], deaths_data[\"2020-06-04\" : ]], axis=1)\n",
    "#merged_data = pd.concat([selected_ca_restrictions[\"2020-06-04\" : \"2022-03-28\"], vaccination_df_administered[\"2020-06-04\" : \"2022-03-28\"], infected_df_CA[\"2020-06-04\" : \"2022-03-28\"], deaths_data[\"2020-06-04\" : ], variant_percentage_df[\"2020-06-04\" : \"2022-03-28\"]], axis=1)\n",
    "#merged_data"
   ]
  },
  {
   "cell_type": "markdown",
   "metadata": {},
   "source": [
    "## Feature Engieering"
   ]
  },
  {
   "cell_type": "code",
   "execution_count": null,
   "metadata": {},
   "outputs": [],
   "source": [
    "merged_data[\"Daily vaccinations\"] = np.log(merged_data[\"Daily vaccinations\"] + 1).fillna(0)\n",
    "merged_data[\"tot_cases\"] = np.log(merged_data[\"tot_cases\"] + 1).fillna(0)\n",
    "merged_data"
   ]
  },
  {
   "cell_type": "code",
   "execution_count": null,
   "metadata": {},
   "outputs": [],
   "source": [
    "from sklearn import linear_model as lm\n",
    "from sklearn.model_selection import train_test_split\n",
    "from sklearn import svm\n",
    "from sklearn.model_selection import cross_val_score\n",
    "from sklearn.metrics import mean_squared_error\n",
    "\n",
    "train, val = train_test_split(merged_data, test_size = 0.1, random_state = 42)\n",
    "Y_train = train[\"Daily Deaths\"]\n",
    "X_train = train.drop([\"Daily Deaths\"], axis=1)\n",
    "\n",
    "linear_model = lm.LinearRegression(fit_intercept=True)\n",
    "linear_model.fit(X_train, Y_train)\n",
    "y_prediction = linear_model.predict(X_train)\n",
    "rmse = mean_squared_error(Y_train, y_prediction, squared=False)\n",
    "rmse\n",
    "plt.scatter(Y_train, Y_train-y_prediction, alpha=0.5);\n",
    "rmse\n",
    "\n",
    "#clf = svm.SVC(kernel='linear', C=1, random_state=42)\n",
    "#scores = cross_val_score(clf, X_train, Y_train, cv=5)\n",
    "#scores"
   ]
  },
  {
   "cell_type": "code",
   "execution_count": null,
   "metadata": {},
   "outputs": [],
   "source": [
    "# Followed example: https://towardsdatascience.com/improve-linear-regression-for-time-series-forecasting-e36f3c3e3534\n",
    "# https://github.com/cerlymarco/MEDIUM_NoteBook/blob/master/ModelTrees_TimeSeries/ModelTrees_TimeSeries.ipynb\n",
    "# https://github.com/cerlymarco/MEDIUM_NoteBook\n",
    "\n",
    "X_train_, X_test_, y_train_, y_test_ = train_test_split(\n",
    "    merged_data.drop('Daily Deaths', axis=1), \n",
    "    merged_data['Daily Deaths'], \n",
    "    test_size=0.3, shuffle=False)\n",
    "\n",
    "X_train_.shape, X_test_.shape"
   ]
  },
  {
   "cell_type": "code",
   "execution_count": null,
   "metadata": {},
   "outputs": [],
   "source": [
    "### PLOT STORE DATA ###\n",
    "\n",
    "y_train_.plot(label='train', figsize=(16,6))\n",
    "y_test_.plot(label='test')\n",
    "plt.title(\"State: {}\".format(\"California\")); plt.legend();"
   ]
  },
  {
   "cell_type": "code",
   "execution_count": null,
   "metadata": {},
   "outputs": [],
   "source": [
    "#model = lm.LinearRegression(fit_intercept=True)\n",
    "\n",
    "from sklearn.model_selection import train_test_split, GridSearchCV\n",
    "from sklearn.linear_model import Ridge\n",
    "\n",
    "#model = GridSearchCV(estimator=Ridge(), param_grid={'alpha': [1, 3, 5, 10, 20]}, \n",
    "#                     scoring='neg_mean_squared_error', cv=2, refit=True)\n",
    "model = lm.LinearRegression(fit_intercept=True)\n",
    "model.fit(X_train_, y_train_)\n",
    "\n",
    "pred_lr = pd.Series(model.predict(X_test_), index = y_test_.index)\n",
    "pred_lr.plot(label='linear_regression')\n",
    "y_test_.plot(label='true', figsize=(10,6));\n",
    "\n",
    "\n",
    "#model.best_params_\n",
    "\n",
    "# Total cases for the last 2 week for each day"
   ]
  },
  {
   "cell_type": "code",
   "execution_count": null,
   "metadata": {},
   "outputs": [],
   "source": [
    "# Find number of days with deaths equal to 0\n",
    "#zero_death_days = merged_data.loc[merged_data[\"Daily Deaths\"] == 0]\n",
    "#zero_death_days.reset_index(inplace=True)\n",
    "#zero_death_days['weekday'] = zero_death_days['index'].dt.dayofweek # Monday=0, Sunday=6\n",
    "#zero_death_days\n",
    "\n",
    "## After not setting days with negative numbers equal to zero then there are 13 days equal to 0\n",
    "## 6 of them is a sunday, 6 is a saturday, and 1 is a monday"
   ]
  },
  {
   "cell_type": "code",
   "execution_count": null,
   "metadata": {},
   "outputs": [],
   "source": []
  }
 ],
 "metadata": {
  "interpreter": {
   "hash": "949777d72b0d2535278d3dc13498b2535136f6dfe0678499012e853ee9abcab1"
  },
  "kernelspec": {
   "display_name": "Python 3.8.3 64-bit",
   "language": "python",
   "name": "python3"
  },
  "language_info": {
   "codemirror_mode": {
    "name": "ipython",
    "version": 3
   },
   "file_extension": ".py",
   "mimetype": "text/x-python",
   "name": "python",
   "nbconvert_exporter": "python",
   "pygments_lexer": "ipython3",
   "version": "3.8.3"
  },
  "orig_nbformat": 4
 },
 "nbformat": 4,
 "nbformat_minor": 2
}
