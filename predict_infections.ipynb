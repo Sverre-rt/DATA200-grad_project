{
 "cells": [
  {
   "cell_type": "code",
   "execution_count": null,
   "metadata": {},
   "outputs": [],
   "source": [
    "import pandas as pd\n",
    "import glob\n",
    "import re\n",
    "import matplotlib.pyplot as plt\n",
    "import seaborn as sns\n",
    "from zipfile import ZipFile"
   ]
  },
  {
   "cell_type": "code",
   "execution_count": null,
   "metadata": {},
   "outputs": [],
   "source": [
    "def init_infection_dataframe_from_zip(path, index_col):\n",
    "    df_master = pd.read_csv(glob.glob(path)[0], compression='zip', header=0, sep=',', index_col=index_col)\n",
    "    return df_master\n",
    "\n",
    "infected_df = init_infection_dataframe_from_zip(r'**csv_files/United_States_COVID-19_Cases_and_Deaths_by_State_over_Time.csv.zip', [\"submission_date\", \"state\"])"
   ]
  },
  {
   "cell_type": "code",
   "execution_count": null,
   "metadata": {},
   "outputs": [],
   "source": [
    "infected_df.index = infected_df.index.set_levels([pd.to_datetime(infected_df.index.levels[0]), infected_df.index.levels[1]])\n",
    "infected_df.sort_index()"
   ]
  },
  {
   "cell_type": "code",
   "execution_count": null,
   "metadata": {},
   "outputs": [],
   "source": [
    "infected_df_CA = infected_df[infected_df.index.get_level_values('state').isin(['CA'])]\n",
    "infected_df_CA = infected_df_CA.reset_index()\n",
    "infected_df_CA.set_index([\"submission_date\"], inplace=True)\n",
    "infected_df_CA = infected_df_CA[[\"tot_cases\", \"new_case\"]].sort_index()\n",
    "sns.heatmap(infected_df_CA.isnull(),yticklabels = False, cbar = False, cmap='viridis');\n",
    "infected_df_CA"
   ]
  },
  {
   "cell_type": "code",
   "execution_count": null,
   "metadata": {},
   "outputs": [],
   "source": [
    "sns.set(rc = {'figure.figsize':(15,8)})\n",
    "#sns.lineplot(x = \"submission_date\", y = \"tot_cases\", data = infected_df)\n",
    "plot = sns.lineplot(x = \"submission_date\", y = \"new_case\", data = infected_df_CA)\n",
    "plot.set(xlabel='Date', ylabel='Number of new cases')\n",
    "plot.set_title('Number of new covid cases registered in California over time');\n",
    "plt.xticks(rotation = 25);"
   ]
  },
  {
   "cell_type": "code",
   "execution_count": null,
   "metadata": {},
   "outputs": [],
   "source": [
    "sns.set(rc = {'figure.figsize':(15,8)})\n",
    "#sns.lineplot(x = \"submission_date\", y = \"tot_cases\", data = infected_df)\n",
    "plot = sns.lineplot(x = \"submission_date\", y = \"tot_cases\", data = infected_df[infected_df.index.get_level_values('state').isin(['CA'])])\n",
    "plot.set(xlabel='Date', ylabel='Total cases (1e6)')\n",
    "plot.set_title('Total number of covid cases registered in California over time');\n",
    "plt.xticks(rotation = 25);"
   ]
  },
  {
   "cell_type": "code",
   "execution_count": null,
   "metadata": {},
   "outputs": [],
   "source": [
    "infected_df_CA[infected_df_CA[\"new_case\"] == 0]"
   ]
  },
  {
   "cell_type": "code",
   "execution_count": null,
   "metadata": {},
   "outputs": [],
   "source": []
  }
 ],
 "metadata": {
  "interpreter": {
   "hash": "949777d72b0d2535278d3dc13498b2535136f6dfe0678499012e853ee9abcab1"
  },
  "kernelspec": {
   "display_name": "Python 3.8.3 64-bit",
   "language": "python",
   "name": "python3"
  },
  "language_info": {
   "codemirror_mode": {
    "name": "ipython",
    "version": 3
   },
   "file_extension": ".py",
   "mimetype": "text/x-python",
   "name": "python",
   "nbconvert_exporter": "python",
   "pygments_lexer": "ipython3",
   "version": "3.8.3"
  },
  "orig_nbformat": 4
 },
 "nbformat": 4,
 "nbformat_minor": 2
}
