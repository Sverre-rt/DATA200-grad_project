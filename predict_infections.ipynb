{
 "cells": [
  {
   "cell_type": "code",
   "execution_count": null,
   "metadata": {},
   "outputs": [],
   "source": [
    "import pandas as pd\n",
    "import glob\n",
    "import re\n",
    "import matplotlib.pyplot as plt\n",
    "import seaborn as sns\n",
    "from zipfile import ZipFile"
   ]
  },
  {
   "cell_type": "code",
   "execution_count": null,
   "metadata": {},
   "outputs": [],
   "source": [
    "def init_state_social_distancing_actions(path):\n",
    "  df_master = pd.DataFrame()\n",
    "  flag = False\n",
    "  files_in_folder = glob.glob(path)\n",
    "  for filename in files_in_folder:    \n",
    "    zip_file = ZipFile(filename)\n",
    "    for text_file in zip_file.infolist():\n",
    "      # if not text_file.filename.startswith('__MACOSX/'):\n",
    "      if text_file.filename.endswith('.csv'):\n",
    "        date = re.search('\\d*-\\d*-\\d*', text_file.filename)[0]\n",
    "        if date == \"20201-06-01\":\n",
    "          date = \"2021-06-01\"\n",
    "        date_time_value = pd.to_datetime(date)\n",
    "        df = pd.read_csv(zip_file.open(text_file.filename), sep=\",\", header=0)\n",
    "        df[\"Date\"] = date_time_value\n",
    "        df.rename(columns = {'Unnamed: 0':'State'}, inplace = True)\n",
    "        df.drop((df[df.State.isin([\"United States\"])].index) | (df[df.State.isnull()].index), inplace=True)\n",
    "      if not flag:\n",
    "        df_master = df\n",
    "        flag = True\n",
    "      else:\n",
    "        df_master = pd.concat([df_master, df])\n",
    "  df_master.set_index([\"Date\", \"State\"], inplace=True)\n",
    "  df_master.sort_index(inplace=True)\n",
    "  return df_master\n",
    "\n",
    "state_social_distancing_actions = init_state_social_distancing_actions(r'**csv_files/state_social_distancing_actions.zip')"
   ]
  },
  {
   "cell_type": "markdown",
   "metadata": {},
   "source": [
    "Clean up the dataframe to remove unused columns and solve for Nan fields"
   ]
  },
  {
   "cell_type": "code",
   "execution_count": null,
   "metadata": {},
   "outputs": [],
   "source": [
    "def clean_state_social_distancing_actions(df):\n",
    "  # TODO: Remove cells we don't want\n",
    "  df = df.drop(columns=[\"Primary Election Postponement\"])\n",
    "  return df\n",
    "\n",
    "cleaned_state_social_distancing_actions = clean_state_social_distancing_actions(state_social_distancing_actions)\n",
    "cleaned_state_social_distancing_actions"
   ]
  },
  {
   "cell_type": "markdown",
   "metadata": {},
   "source": [
    "Display "
   ]
  },
  {
   "cell_type": "code",
   "execution_count": null,
   "metadata": {},
   "outputs": [],
   "source": [
    "california_data = cleaned_state_social_distancing_actions[cleaned_state_social_distancing_actions.index.get_level_values('State').isin(['California'])]\n",
    "california_data_mask_mandate = california_data[[ \"Face Covering Requirement\",\"Statewide Face Mask Requirement\"]]\n",
    "california_data_mask_mandate.values\n",
    "\n",
    "# colors = sns.color_palette('pastel')\n",
    "# plt.pie(california_data_mask_mandate.values, colors = colors)\n",
    "# plt.show()"
   ]
  },
  {
   "cell_type": "code",
   "execution_count": null,
   "metadata": {},
   "outputs": [],
   "source": [
    "def init_infection_dataframe_from_zip(path, index_col):\n",
    "    df_master = pd.read_csv(glob.glob(path)[0], compression='zip', header=0, sep=',', index_col=index_col)\n",
    "    return df_master\n",
    "\n",
    "infected_df = init_infection_dataframe_from_zip(r'**csv_files/United_States_COVID-19_Cases_and_Deaths_by_State_over_Time.csv.zip', [\"submission_date\", \"state\"])"
   ]
  },
  {
   "cell_type": "code",
   "execution_count": null,
   "metadata": {},
   "outputs": [],
   "source": [
    "infected_df.index = infected_df.index.set_levels([pd.to_datetime(infected_df.index.levels[0]), infected_df.index.levels[1]])\n",
    "infected_df.sort_index()"
   ]
  },
  {
   "cell_type": "code",
   "execution_count": null,
   "metadata": {},
   "outputs": [],
   "source": [
    "sns.set(rc = {'figure.figsize':(15,8)})\n",
    "#sns.lineplot(x = \"submission_date\", y = \"tot_cases\", data = infected_df)\n",
    "plot = sns.lineplot(x = \"submission_date\", y = \"new_case\", data = infected_df[infected_df.index.get_level_values('state').isin(['CA'])])\n",
    "plot.set(xlabel='Date', ylabel='Number of new cases')\n",
    "plot.set_title('Number of new covid cases registered in California over time');\n",
    "plt.xticks(rotation = 25);"
   ]
  },
  {
   "cell_type": "code",
   "execution_count": null,
   "metadata": {},
   "outputs": [],
   "source": [
    "sns.set(rc = {'figure.figsize':(15,8)})\n",
    "#sns.lineplot(x = \"submission_date\", y = \"tot_cases\", data = infected_df)\n",
    "plot = sns.lineplot(x = \"submission_date\", y = \"tot_cases\", data = infected_df[infected_df.index.get_level_values('state').isin(['CA'])])\n",
    "plot.set(xlabel='Date', ylabel='Total cases (1e6)')\n",
    "plot.set_title('Total number of covid cases registered in California over time');\n",
    "plt.xticks(rotation = 25);"
   ]
  },
  {
   "cell_type": "code",
   "execution_count": null,
   "metadata": {},
   "outputs": [],
   "source": []
  }
 ],
 "metadata": {
  "interpreter": {
   "hash": "949777d72b0d2535278d3dc13498b2535136f6dfe0678499012e853ee9abcab1"
  },
  "kernelspec": {
   "display_name": "Python 3.8.3 64-bit",
   "language": "python",
   "name": "python3"
  },
  "language_info": {
   "codemirror_mode": {
    "name": "ipython",
    "version": 3
   },
   "file_extension": ".py",
   "mimetype": "text/x-python",
   "name": "python",
   "nbconvert_exporter": "python",
   "pygments_lexer": "ipython3",
   "version": "3.8.3"
  },
  "orig_nbformat": 4
 },
 "nbformat": 4,
 "nbformat_minor": 2
}
