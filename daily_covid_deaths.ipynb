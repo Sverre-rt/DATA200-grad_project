{
 "cells": [
  {
   "cell_type": "code",
   "execution_count": null,
   "metadata": {},
   "outputs": [],
   "source": [
    "import pandas as pd\n",
    "import glob\n",
    "import re\n",
    "import matplotlib.pyplot as plt\n",
    "import seaborn as sns\n",
    "from zipfile import ZipFile\n",
    "import geopandas as gpd"
   ]
  },
  {
   "cell_type": "code",
   "execution_count": null,
   "metadata": {},
   "outputs": [],
   "source": [
    "def init_daily_reports(path):\n",
    "  df_master = pd.DataFrame()\n",
    "  flag = False\n",
    "  files_in_folder = glob.glob(path)\n",
    "  for filename in files_in_folder:    \n",
    "    zip_file = ZipFile(filename)\n",
    "    for text_file in zip_file.infolist():\n",
    "      # if not text_file.filename.startswith('__MACOSX/'):\n",
    "      if text_file.filename.endswith('.csv'):\n",
    "        date = re.search('\\d*-\\d*-\\d*', text_file.filename)[0]\n",
    "        date_time_value = pd.to_datetime(date)\n",
    "        df = pd.read_csv(zip_file.open(text_file.filename), sep=\",\", header=0)\n",
    "        df[\"Date\"] = date_time_value\n",
    "        df.rename(columns = {'Province_State':'State'}, inplace = True)\n",
    "        df.drop((df[df.State.isin([\"United States\"])].index) | (df[df.State.isnull()].index), inplace=True)\n",
    "      if not flag:\n",
    "        df_master = df\n",
    "        flag = True\n",
    "      else:\n",
    "        df_master = pd.concat([df_master, df])\n",
    "  df_master.set_index([\"Date\", \"State\"], inplace=True)\n",
    "  df_master.sort_index(inplace=True)\n",
    "  return df_master\n",
    "\n",
    "covid_daily_reports = init_daily_reports(r'**csv_files/csse_covid_19_daily_reports_us.zip')\n",
    "\n",
    "covid_daily_reports = covid_daily_reports.reset_index()\n",
    "\n",
    "states = ['Alabama','Alaska','Arizona','Arkansas','California','Colorado','Connecticut','Delaware','Florida','Georgia','Hawaii','Idaho','Illinois','Indiana','Iowa','Kansas','Kentucky','Louisiana','Maine','Maryland','Massachusetts','Michigan','Minnesota','Mississippi','Missouri','Montana','Nebraska','Nevada','New Hampshire','New Jersey','New Mexico','New York','North Carolina','North Dakota','Ohio','Oklahoma','Oregon','Pennsylvania','Rhode Island','South Carolina','South Dakota','Tennessee','Texas','Utah','Vermont','Virginia','Washington','West Virginia','Wisconsin','Wyoming']\n",
    "covid_daily_reports = covid_daily_reports[covid_daily_reports[\"State\"].isin(states) == True]\n",
    "covid_daily_reports.set_index([\"Date\", \"State\"], inplace=True)\n",
    "covid_daily_reports.head()\n",
    "\n"
   ]
  },
  {
   "cell_type": "markdown",
   "metadata": {},
   "source": [
    "### Data Cleaning"
   ]
  },
  {
   "cell_type": "code",
   "execution_count": null,
   "metadata": {},
   "outputs": [],
   "source": [
    "sns.heatmap(covid_daily_reports.isnull(),yticklabels = False, cbar = False, cmap='viridis')"
   ]
  },
  {
   "cell_type": "code",
   "execution_count": null,
   "metadata": {},
   "outputs": [],
   "source": [
    "covid_daily_reports"
   ]
  },
  {
   "cell_type": "code",
   "execution_count": null,
   "metadata": {},
   "outputs": [],
   "source": []
  },
  {
   "cell_type": "code",
   "execution_count": null,
   "metadata": {},
   "outputs": [],
   "source": [
    "fig, ax = plt.subplots(figsize=(8,6))\n",
    "# plot map on axis\n",
    "countries = gpd.read_file(  \n",
    "     gpd.datasets.get_path(\"naturalearth_lowres\"))\n",
    "countries[countries[\"name\"] == \"United States of America\"].plot(color=\"lightgrey\",\n",
    "                                                 ax=ax)\n",
    "# plot points\n",
    "covid_daily_reports.plot(x=\"Long_\", y=\"Lat\", kind=\"scatter\", colormap=\"YlOrRd\", \n",
    "        ax=ax)\n",
    "# add grid\n",
    "ax.grid(b=True, alpha=0.5)\n",
    "plt.show()"
   ]
  },
  {
   "cell_type": "code",
   "execution_count": null,
   "metadata": {},
   "outputs": [],
   "source": []
  }
 ],
 "metadata": {
  "kernelspec": {
   "display_name": "Python 3",
   "language": "python",
   "name": "python3"
  },
  "language_info": {
   "codemirror_mode": {
    "name": "ipython",
    "version": 3
   },
   "file_extension": ".py",
   "mimetype": "text/x-python",
   "name": "python",
   "nbconvert_exporter": "python",
   "pygments_lexer": "ipython3",
   "version": "3.8.5"
  }
 },
 "nbformat": 4,
 "nbformat_minor": 4
}
