{
 "metadata": {
  "language_info": {
   "codemirror_mode": {
    "name": "ipython",
    "version": 3
   },
   "file_extension": ".py",
   "mimetype": "text/x-python",
   "name": "python",
   "nbconvert_exporter": "python",
   "pygments_lexer": "ipython3",
   "version": "3.8.5-final"
  },
  "orig_nbformat": 2,
  "kernelspec": {
   "name": "python3",
   "display_name": "Python 3.8.5 64-bit ('base': conda)",
   "metadata": {
    "interpreter": {
     "hash": "344443636c3027c5042750c9c609acdda283a9c43681b128a8c1053e7ad2aa7d"
    }
   }
  }
 },
 "nbformat": 4,
 "nbformat_minor": 2,
 "cells": [
  {
   "cell_type": "code",
   "execution_count": 7,
   "metadata": {},
   "outputs": [],
   "source": [
    "import pandas as pd"
   ]
  },
  {
   "cell_type": "code",
   "execution_count": 8,

   "metadata": {},
   "outputs": [
    {
     "output_type": "display_data",
     "data": {
      "text/plain": "      FIPS Admin2 Province_State        Country_Region          Last_Update  \\\n0      NaN    NaN            NaN           Afghanistan  2021-01-02 05:22:33   \n1      NaN    NaN            NaN               Albania  2021-01-02 05:22:33   \n2      NaN    NaN            NaN               Algeria  2021-01-02 05:22:33   \n3      NaN    NaN            NaN               Andorra  2021-01-02 05:22:33   \n4      NaN    NaN            NaN                Angola  2021-01-02 05:22:33   \n...    ...    ...            ...                   ...                  ...   \n4000   NaN    NaN            NaN                 Tonga  2021-01-02 05:22:33   \n4001   NaN    NaN            NaN  Winter Olympics 2022  2021-01-02 05:22:33   \n4002   NaN    NaN            NaN            Antarctica  2021-01-02 05:22:33   \n4003   NaN    NaN         Jersey        United Kingdom  2021-01-02 05:22:33   \n4004   NaN    NaN       Guernsey        United Kingdom  2021-01-02 05:22:33   \n\n            Lat       Long_  Confirmed  Deaths  Recovered  Active  \\\n0     33.939110   67.709953      52513    2201      41727    8585   \n1     41.153300   20.168300      58316    1181      33634   23501   \n2     28.033900    1.659600      99897    2762      67395   29740   \n3     42.506300    1.521800       8117      84       7463     570   \n4    -11.202700   17.873900      17568     405      11146    6017   \n...         ...         ...        ...     ...        ...     ...   \n4000 -21.179000 -175.198200          0       0          0       0   \n4001  39.904200  116.407400          0       0          0       0   \n4002 -71.949900   23.347000          0       0          0       0   \n4003  49.213800   -2.135800       2739      42          0       0   \n4004  49.448196   -2.589490        298      16          0       0   \n\n                  Combined_Key  Incident_Rate  Case_Fatality_Ratio  \n0                  Afghanistan     134.896578             4.191343  \n1                      Albania    2026.409062             2.025173  \n2                      Algeria     227.809861             2.764848  \n3                      Andorra   10505.403482             1.034865  \n4                       Angola      53.452981             2.305328  \n...                        ...            ...                  ...  \n4000                     Tonga       0.000000                  NaN  \n4001      Winter Olympics 2022       0.000000             0.000000  \n4002                Antarctica       0.000000             0.000000  \n4003    Jersey, United Kingdom       0.000000             0.000000  \n4004  Guernsey, United Kingdom       0.000000             0.000000  \n\n[4005 rows x 14 columns]",
      "text/html": "<div>\n<style scoped>\n    .dataframe tbody tr th:only-of-type {\n        vertical-align: middle;\n    }\n\n    .dataframe tbody tr th {\n        vertical-align: top;\n    }\n\n    .dataframe thead th {\n        text-align: right;\n    }\n</style>\n<table border=\"1\" class=\"dataframe\">\n  <thead>\n    <tr style=\"text-align: right;\">\n      <th></th>\n      <th>FIPS</th>\n      <th>Admin2</th>\n      <th>Province_State</th>\n      <th>Country_Region</th>\n      <th>Last_Update</th>\n      <th>Lat</th>\n      <th>Long_</th>\n      <th>Confirmed</th>\n      <th>Deaths</th>\n      <th>Recovered</th>\n      <th>Active</th>\n      <th>Combined_Key</th>\n      <th>Incident_Rate</th>\n      <th>Case_Fatality_Ratio</th>\n    </tr>\n  </thead>\n  <tbody>\n    <tr>\n      <th>0</th>\n      <td>NaN</td>\n      <td>NaN</td>\n      <td>NaN</td>\n      <td>Afghanistan</td>\n      <td>2021-01-02 05:22:33</td>\n      <td>33.939110</td>\n      <td>67.709953</td>\n      <td>52513</td>\n      <td>2201</td>\n      <td>41727</td>\n      <td>8585</td>\n      <td>Afghanistan</td>\n      <td>134.896578</td>\n      <td>4.191343</td>\n    </tr>\n    <tr>\n      <th>1</th>\n      <td>NaN</td>\n      <td>NaN</td>\n      <td>NaN</td>\n      <td>Albania</td>\n      <td>2021-01-02 05:22:33</td>\n      <td>41.153300</td>\n      <td>20.168300</td>\n      <td>58316</td>\n      <td>1181</td>\n      <td>33634</td>\n      <td>23501</td>\n      <td>Albania</td>\n      <td>2026.409062</td>\n      <td>2.025173</td>\n    </tr>\n    <tr>\n      <th>2</th>\n      <td>NaN</td>\n      <td>NaN</td>\n      <td>NaN</td>\n      <td>Algeria</td>\n      <td>2021-01-02 05:22:33</td>\n      <td>28.033900</td>\n      <td>1.659600</td>\n      <td>99897</td>\n      <td>2762</td>\n      <td>67395</td>\n      <td>29740</td>\n      <td>Algeria</td>\n      <td>227.809861</td>\n      <td>2.764848</td>\n    </tr>\n    <tr>\n      <th>3</th>\n      <td>NaN</td>\n      <td>NaN</td>\n      <td>NaN</td>\n      <td>Andorra</td>\n      <td>2021-01-02 05:22:33</td>\n      <td>42.506300</td>\n      <td>1.521800</td>\n      <td>8117</td>\n      <td>84</td>\n      <td>7463</td>\n      <td>570</td>\n      <td>Andorra</td>\n      <td>10505.403482</td>\n      <td>1.034865</td>\n    </tr>\n    <tr>\n      <th>4</th>\n      <td>NaN</td>\n      <td>NaN</td>\n      <td>NaN</td>\n      <td>Angola</td>\n      <td>2021-01-02 05:22:33</td>\n      <td>-11.202700</td>\n      <td>17.873900</td>\n      <td>17568</td>\n      <td>405</td>\n      <td>11146</td>\n      <td>6017</td>\n      <td>Angola</td>\n      <td>53.452981</td>\n      <td>2.305328</td>\n    </tr>\n    <tr>\n      <th>...</th>\n      <td>...</td>\n      <td>...</td>\n      <td>...</td>\n      <td>...</td>\n      <td>...</td>\n      <td>...</td>\n      <td>...</td>\n      <td>...</td>\n      <td>...</td>\n      <td>...</td>\n      <td>...</td>\n      <td>...</td>\n      <td>...</td>\n      <td>...</td>\n    </tr>\n    <tr>\n      <th>4000</th>\n      <td>NaN</td>\n      <td>NaN</td>\n      <td>NaN</td>\n      <td>Tonga</td>\n      <td>2021-01-02 05:22:33</td>\n      <td>-21.179000</td>\n      <td>-175.198200</td>\n      <td>0</td>\n      <td>0</td>\n      <td>0</td>\n      <td>0</td>\n      <td>Tonga</td>\n      <td>0.000000</td>\n      <td>NaN</td>\n    </tr>\n    <tr>\n      <th>4001</th>\n      <td>NaN</td>\n      <td>NaN</td>\n      <td>NaN</td>\n      <td>Winter Olympics 2022</td>\n      <td>2021-01-02 05:22:33</td>\n      <td>39.904200</td>\n      <td>116.407400</td>\n      <td>0</td>\n      <td>0</td>\n      <td>0</td>\n      <td>0</td>\n      <td>Winter Olympics 2022</td>\n      <td>0.000000</td>\n      <td>0.000000</td>\n    </tr>\n    <tr>\n      <th>4002</th>\n      <td>NaN</td>\n      <td>NaN</td>\n      <td>NaN</td>\n      <td>Antarctica</td>\n      <td>2021-01-02 05:22:33</td>\n      <td>-71.949900</td>\n      <td>23.347000</td>\n      <td>0</td>\n      <td>0</td>\n      <td>0</td>\n      <td>0</td>\n      <td>Antarctica</td>\n      <td>0.000000</td>\n      <td>0.000000</td>\n    </tr>\n    <tr>\n      <th>4003</th>\n      <td>NaN</td>\n      <td>NaN</td>\n      <td>Jersey</td>\n      <td>United Kingdom</td>\n      <td>2021-01-02 05:22:33</td>\n      <td>49.213800</td>\n      <td>-2.135800</td>\n      <td>2739</td>\n      <td>42</td>\n      <td>0</td>\n      <td>0</td>\n      <td>Jersey, United Kingdom</td>\n      <td>0.000000</td>\n      <td>0.000000</td>\n    </tr>\n    <tr>\n      <th>4004</th>\n      <td>NaN</td>\n      <td>NaN</td>\n      <td>Guernsey</td>\n      <td>United Kingdom</td>\n      <td>2021-01-02 05:22:33</td>\n      <td>49.448196</td>\n      <td>-2.589490</td>\n      <td>298</td>\n      <td>16</td>\n      <td>0</td>\n      <td>0</td>\n      <td>Guernsey, United Kingdom</td>\n      <td>0.000000</td>\n      <td>0.000000</td>\n    </tr>\n  </tbody>\n</table>\n<p>4005 rows × 14 columns</p>\n</div>"
     },
     "metadata": {}
    }
   ],
   "source": [
    "url = 'https://drive.google.com/file/d/1-M1CNy5po7HpAxM1lozmDdOUc_wSn7CO/view?usp=sharing'\n",
    "path = 'https://drive.google.com/uc?export=download&id='+url.split('/')[-2]\n",
    "df = pd.read_csv(path)\n",
    "\n",
    "\n",
    "\n",
    "display(df)"
   ]
  },
  {
   "cell_type": "code",
   "execution_count": null,
   "metadata": {},
   "outputs": [],
   "source": []
  }
 ]
}