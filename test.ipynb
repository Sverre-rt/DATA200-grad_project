{
 "cells": [
  {
   "cell_type": "code",
   "execution_count": null,
   "metadata": {},
   "outputs": [],
   "source": [
    "import pandas as pd"
   ]
  },
  {
   "cell_type": "code",
   "execution_count": null,
   "metadata": {},
   "outputs": [],
   "source": [
    "import glob\n",
    "from zipfile import ZipFile\n",
    "\n",
    "def init_dataframe_from_zip(path, index_col):\n",
    "    df_master = pd.DataFrame()\n",
    "    flag = False\n",
    "    files_in_folder = glob.glob(path)\n",
    "    for filename in files_in_folder:    \n",
    "        zip_file = ZipFile(filename)\n",
    "        for text_file in zip_file.infolist():\n",
    "            if text_file.filename.endswith('.csv'):\n",
    "                df = pd.read_csv(zip_file.open(text_file.filename),header=0,index_col=[index_col])\n",
    "            if not flag:\n",
    "                df_master = df\n",
    "                flag = True\n",
    "            else:\n",
    "                df_master = pd.concat([df_master, df])\n",
    "    return df_master\n",
    "\n",
    "csse_covid_19_daily_reports_us = init_dataframe_from_zip(r'**csv_files/csse_covid_19_daily_reports_us.zip', 'UID')\n",
    "display(csse_covid_19_daily_reports_us)\n"
   ]
  },
  {
   "cell_type": "code",
   "execution_count": null,
   "metadata": {},
   "outputs": [],
   "source": []
  }
 ],
 "metadata": {
  "kernelspec": {
   "display_name": "Python 3.8.5 64-bit ('base': conda)",
   "metadata": {
    "interpreter": {
     "hash": "344443636c3027c5042750c9c609acdda283a9c43681b128a8c1053e7ad2aa7d"
    }
   },
   "name": "python3"
  },
  "language_info": {
   "codemirror_mode": {
    "name": "ipython",
    "version": 3
   },
   "file_extension": ".py",
   "mimetype": "text/x-python",
   "name": "python",
   "nbconvert_exporter": "python",
   "pygments_lexer": "ipython3",
   "version": "3.8.5-final"
  },
  "orig_nbformat": 2
 },
 "nbformat": 4,
 "nbformat_minor": 2
}
