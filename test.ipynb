{
 "metadata": {
  "language_info": {
   "codemirror_mode": {
    "name": "ipython",
    "version": 3
   },
   "file_extension": ".py",
   "mimetype": "text/x-python",
   "name": "python",
   "nbconvert_exporter": "python",
   "pygments_lexer": "ipython3",
   "version": "3.8.5-final"
  },
  "orig_nbformat": 2,
  "kernelspec": {
   "name": "python3",
   "display_name": "Python 3.8.5 64-bit ('base': conda)",
   "metadata": {
    "interpreter": {
     "hash": "344443636c3027c5042750c9c609acdda283a9c43681b128a8c1053e7ad2aa7d"
    }
   }
  }
 },
 "nbformat": 4,
 "nbformat_minor": 2,
 "cells": [
  {
   "cell_type": "code",
   "execution_count": 16,
   "metadata": {},
   "outputs": [],
   "source": [
    "import pandas as pd"
   ]
  },
  {
   "cell_type": "code",
   "execution_count": 21,
   "metadata": {},
   "outputs": [
    {
     "output_type": "stream",
     "name": "stdout",
     "text": [
      "(4005, 14)\n"
     ]
    }
   ],
   "source": [
    "url = 'https://drive.google.com/file/d/1-M1CNy5po7HpAxM1lozmDdOUc_wSn7CO/view?usp=sharing'\n",
    "path = 'https://drive.google.com/uc?export=download&id='+url.split('/')[-2]\n",
    "df = pd.read_csv(path)\n",
    "\n",
    "print(df.shape)"
   ]
  },
  {
   "cell_type": "code",
   "execution_count": 20,
   "metadata": {},
   "outputs": [
    {
     "output_type": "stream",
     "name": "stdout",
     "text": [
      "1\n"
     ]
    }
   ],
   "source": [
    "\n",
    "import glob\n",
    "import zipfile\n",
    "import pandas as pd\n",
    "\n",
    "for zip_file in glob.glob(\"**/csv_files/csse_covid_19_daily_reports_us/*.zip\"):\n",
    "    zf = zipfile.ZipFile(zip_file)\n",
    "    dfs = [pd.read_csv(zf.open(f), header=None, sep=\";\") for f in zf.namelist()]\n",
    "    df = pd.concat(dfs,ignore_index=True)\n",
    "    print(df)"
   ]
  },
  {
   "cell_type": "code",
   "execution_count": 49,
   "metadata": {},
   "outputs": [
    {
     "output_type": "stream",
     "name": "stdout",
     "text": [
      "all files :  ['csv_files/csse_covid_19_daily_reports_us.zip']\n",
      "01-02-2022.csv\n",
      "01-06-2021.csv\n",
      "01-14-2022.csv\n",
      "01-05-2022.csv\n",
      "01-10-2022.csv\n",
      "01-13-2021.csv\n",
      "01-07-2022.csv\n",
      "01-03-2022.csv\n",
      "01-14-2021.csv\n",
      "01-07-2021.csv\n",
      "01-01-2021.csv\n",
      "01-04-2022.csv\n",
      "01-15-2022.csv\n",
      "01-10-2021.csv\n",
      "01-01-2022.csv\n",
      "01-11-2022.csv\n",
      "01-03-2021.csv\n",
      "01-08-2022.csv\n",
      "01-08-2021.csv\n",
      "01-09-2022.csv\n",
      "01-06-2022.csv\n",
      "01-05-2021.csv\n",
      "01-16-2022.csv\n",
      "01-23-2022.csv\n",
      "01-19-2022.csv\n",
      "01-20-2022.csv\n",
      "01-22-2021.csv\n",
      "01-19-2021.csv\n",
      "01-18-2022.csv\n",
      "01-25-2022.csv\n",
      "01-23-2021.csv\n",
      "01-20-2021.csv\n",
      "01-24-2021.csv\n",
      "01-25-2021.csv\n",
      "01-09-2021.csv\n",
      "01-24-2022.csv\n",
      "01-13-2022.csv\n",
      "01-18-2021.csv\n",
      "01-02-2021.csv\n",
      "01-17-2022.csv\n",
      "01-22-2022.csv\n",
      "01-11-2021.csv\n",
      "01-15-2021.csv\n",
      "01-21-2021.csv\n",
      "01-04-2021.csv\n",
      "01-16-2021.csv\n",
      "01-12-2022.csv\n",
      "01-21-2022.csv\n",
      "01-12-2021.csv\n",
      "01-17-2021.csv\n",
      "<class 'pandas.core.frame.DataFrame'>\n",
      "Float64Index: 2900 entries, 84000001.0 to 84000056.0\n",
      "Data columns (total 17 columns):\n",
      " #   Column                Non-Null Count  Dtype  \n",
      "---  ------                --------------  -----  \n",
      " 0   Province_State        2900 non-null   object \n",
      " 1   Country_Region        2900 non-null   object \n",
      " 2   Last_Update           2900 non-null   object \n",
      " 3   Lat                   2800 non-null   float64\n",
      " 4   Long_                 2800 non-null   float64\n",
      " 5   Confirmed             2900 non-null   int64  \n",
      " 6   Deaths                2900 non-null   int64  \n",
      " 7   Recovered             1177 non-null   float64\n",
      " 8   Active                1177 non-null   float64\n",
      " 9   FIPS                  2900 non-null   float64\n",
      " 10  Incident_Rate         2800 non-null   float64\n",
      " 11  Total_Test_Results    2800 non-null   float64\n",
      " 12  People_Hospitalized   0 non-null      float64\n",
      " 13  Case_Fatality_Ratio   2875 non-null   float64\n",
      " 14  ISO3                  2900 non-null   object \n",
      " 15  Testing_Rate          2800 non-null   float64\n",
      " 16  Hospitalization_Rate  0 non-null      float64\n",
      "dtypes: float64(11), int64(2), object(4)\n",
      "memory usage: 407.8+ KB\n",
      "None\n",
      "shape of master_dataframe :  (2900, 17)\n"
     ]
    },
    {
     "output_type": "display_data",
     "data": {
      "text/plain": "            Province_State Country_Region          Last_Update      Lat  \\\nUID                                                                       \n84000001.0         Alabama             US  2022-01-03 02:33:49  32.3182   \n84000002.0          Alaska             US  2022-01-03 02:33:49  61.3707   \n16.0        American Samoa             US  2022-01-03 02:33:49 -14.2710   \n84000004.0         Arizona             US  2022-01-03 02:33:49  33.7298   \n84000005.0        Arkansas             US  2022-01-03 02:33:49  34.9697   \n...                    ...            ...                  ...      ...   \n84000051.0        Virginia             US  2021-01-18 05:30:33  37.7693   \n84000053.0      Washington             US  2021-01-18 05:30:33  47.4009   \n84000054.0   West Virginia             US  2021-01-18 05:30:33  38.4912   \n84000055.0       Wisconsin             US  2021-01-18 05:30:33  44.2685   \n84000056.0         Wyoming             US  2021-01-18 05:30:33  42.7560   \n\n               Long_  Confirmed  Deaths  Recovered    Active  FIPS  \\\nUID                                                                  \n84000001.0  -86.9023     909541   16455        NaN       NaN   1.0   \n84000002.0 -152.4044     157169     978        NaN       NaN   2.0   \n16.0       -170.1320         10       0        NaN       NaN  60.0   \n84000004.0 -111.4312    1390409   24355        NaN       NaN   4.0   \n84000005.0  -92.3731     572822    9196        NaN       NaN   5.0   \n...              ...        ...     ...        ...       ...   ...   \n84000051.0  -78.1700     439305    5729    35276.0  398300.0  51.0   \n84000053.0 -121.4905     289939    3903        NaN       NaN  53.0   \n84000054.0  -80.9545     108821    1776    80187.0   26858.0  54.0   \n84000055.0  -89.6165     568166    5906   490043.0   72217.0  55.0   \n84000056.0 -107.3025      49363     522    46820.0    2021.0  56.0   \n\n            Incident_Rate  Total_Test_Results  People_Hospitalized  \\\nUID                                                                  \n84000001.0   18550.003722           6562722.0                  NaN   \n84000002.0   21484.529318           3685702.0                  NaN   \n16.0            17.972359              2140.0                  NaN   \n84000004.0   19102.391259          15679982.0                  NaN   \n84000005.0   18981.418276           4441472.0                  NaN   \n...                   ...                 ...                  ...   \n84000051.0    5146.787208           4807396.0                  NaN   \n84000053.0    3807.525595           4179833.0                  NaN   \n84000054.0    6072.102344           1767500.0                  NaN   \n84000055.0    9758.221390           5798072.0                  NaN   \n84000056.0    8529.111426            549805.0                  NaN   \n\n            Case_Fatality_Ratio ISO3   Testing_Rate  Hospitalization_Rate  \nUID                                                                        \n84000001.0             1.809154  USA  133846.102074                   NaN  \n84000002.0             0.622260  USA  503824.371706                   NaN  \n16.0                   0.000000  ASM    3846.084722                   NaN  \n84000004.0             1.751643  USA  215422.333359                   NaN  \n84000005.0             1.605385  USA  147175.628371                   NaN  \n...                         ...  ...            ...                   ...  \n84000051.0             1.304105  USA   56322.245900                   NaN  \n84000053.0             1.346145  USA   54890.239429                   NaN  \n84000054.0             1.632038  USA   98624.722191                   NaN  \n84000055.0             1.039485  USA   99581.583922                   NaN  \n84000056.0             1.057472  USA   94997.226825                   NaN  \n\n[2900 rows x 17 columns]",
      "text/html": "<div>\n<style scoped>\n    .dataframe tbody tr th:only-of-type {\n        vertical-align: middle;\n    }\n\n    .dataframe tbody tr th {\n        vertical-align: top;\n    }\n\n    .dataframe thead th {\n        text-align: right;\n    }\n</style>\n<table border=\"1\" class=\"dataframe\">\n  <thead>\n    <tr style=\"text-align: right;\">\n      <th></th>\n      <th>Province_State</th>\n      <th>Country_Region</th>\n      <th>Last_Update</th>\n      <th>Lat</th>\n      <th>Long_</th>\n      <th>Confirmed</th>\n      <th>Deaths</th>\n      <th>Recovered</th>\n      <th>Active</th>\n      <th>FIPS</th>\n      <th>Incident_Rate</th>\n      <th>Total_Test_Results</th>\n      <th>People_Hospitalized</th>\n      <th>Case_Fatality_Ratio</th>\n      <th>ISO3</th>\n      <th>Testing_Rate</th>\n      <th>Hospitalization_Rate</th>\n    </tr>\n    <tr>\n      <th>UID</th>\n      <th></th>\n      <th></th>\n      <th></th>\n      <th></th>\n      <th></th>\n      <th></th>\n      <th></th>\n      <th></th>\n      <th></th>\n      <th></th>\n      <th></th>\n      <th></th>\n      <th></th>\n      <th></th>\n      <th></th>\n      <th></th>\n      <th></th>\n    </tr>\n  </thead>\n  <tbody>\n    <tr>\n      <th>84000001.0</th>\n      <td>Alabama</td>\n      <td>US</td>\n      <td>2022-01-03 02:33:49</td>\n      <td>32.3182</td>\n      <td>-86.9023</td>\n      <td>909541</td>\n      <td>16455</td>\n      <td>NaN</td>\n      <td>NaN</td>\n      <td>1.0</td>\n      <td>18550.003722</td>\n      <td>6562722.0</td>\n      <td>NaN</td>\n      <td>1.809154</td>\n      <td>USA</td>\n      <td>133846.102074</td>\n      <td>NaN</td>\n    </tr>\n    <tr>\n      <th>84000002.0</th>\n      <td>Alaska</td>\n      <td>US</td>\n      <td>2022-01-03 02:33:49</td>\n      <td>61.3707</td>\n      <td>-152.4044</td>\n      <td>157169</td>\n      <td>978</td>\n      <td>NaN</td>\n      <td>NaN</td>\n      <td>2.0</td>\n      <td>21484.529318</td>\n      <td>3685702.0</td>\n      <td>NaN</td>\n      <td>0.622260</td>\n      <td>USA</td>\n      <td>503824.371706</td>\n      <td>NaN</td>\n    </tr>\n    <tr>\n      <th>16.0</th>\n      <td>American Samoa</td>\n      <td>US</td>\n      <td>2022-01-03 02:33:49</td>\n      <td>-14.2710</td>\n      <td>-170.1320</td>\n      <td>10</td>\n      <td>0</td>\n      <td>NaN</td>\n      <td>NaN</td>\n      <td>60.0</td>\n      <td>17.972359</td>\n      <td>2140.0</td>\n      <td>NaN</td>\n      <td>0.000000</td>\n      <td>ASM</td>\n      <td>3846.084722</td>\n      <td>NaN</td>\n    </tr>\n    <tr>\n      <th>84000004.0</th>\n      <td>Arizona</td>\n      <td>US</td>\n      <td>2022-01-03 02:33:49</td>\n      <td>33.7298</td>\n      <td>-111.4312</td>\n      <td>1390409</td>\n      <td>24355</td>\n      <td>NaN</td>\n      <td>NaN</td>\n      <td>4.0</td>\n      <td>19102.391259</td>\n      <td>15679982.0</td>\n      <td>NaN</td>\n      <td>1.751643</td>\n      <td>USA</td>\n      <td>215422.333359</td>\n      <td>NaN</td>\n    </tr>\n    <tr>\n      <th>84000005.0</th>\n      <td>Arkansas</td>\n      <td>US</td>\n      <td>2022-01-03 02:33:49</td>\n      <td>34.9697</td>\n      <td>-92.3731</td>\n      <td>572822</td>\n      <td>9196</td>\n      <td>NaN</td>\n      <td>NaN</td>\n      <td>5.0</td>\n      <td>18981.418276</td>\n      <td>4441472.0</td>\n      <td>NaN</td>\n      <td>1.605385</td>\n      <td>USA</td>\n      <td>147175.628371</td>\n      <td>NaN</td>\n    </tr>\n    <tr>\n      <th>...</th>\n      <td>...</td>\n      <td>...</td>\n      <td>...</td>\n      <td>...</td>\n      <td>...</td>\n      <td>...</td>\n      <td>...</td>\n      <td>...</td>\n      <td>...</td>\n      <td>...</td>\n      <td>...</td>\n      <td>...</td>\n      <td>...</td>\n      <td>...</td>\n      <td>...</td>\n      <td>...</td>\n      <td>...</td>\n    </tr>\n    <tr>\n      <th>84000051.0</th>\n      <td>Virginia</td>\n      <td>US</td>\n      <td>2021-01-18 05:30:33</td>\n      <td>37.7693</td>\n      <td>-78.1700</td>\n      <td>439305</td>\n      <td>5729</td>\n      <td>35276.0</td>\n      <td>398300.0</td>\n      <td>51.0</td>\n      <td>5146.787208</td>\n      <td>4807396.0</td>\n      <td>NaN</td>\n      <td>1.304105</td>\n      <td>USA</td>\n      <td>56322.245900</td>\n      <td>NaN</td>\n    </tr>\n    <tr>\n      <th>84000053.0</th>\n      <td>Washington</td>\n      <td>US</td>\n      <td>2021-01-18 05:30:33</td>\n      <td>47.4009</td>\n      <td>-121.4905</td>\n      <td>289939</td>\n      <td>3903</td>\n      <td>NaN</td>\n      <td>NaN</td>\n      <td>53.0</td>\n      <td>3807.525595</td>\n      <td>4179833.0</td>\n      <td>NaN</td>\n      <td>1.346145</td>\n      <td>USA</td>\n      <td>54890.239429</td>\n      <td>NaN</td>\n    </tr>\n    <tr>\n      <th>84000054.0</th>\n      <td>West Virginia</td>\n      <td>US</td>\n      <td>2021-01-18 05:30:33</td>\n      <td>38.4912</td>\n      <td>-80.9545</td>\n      <td>108821</td>\n      <td>1776</td>\n      <td>80187.0</td>\n      <td>26858.0</td>\n      <td>54.0</td>\n      <td>6072.102344</td>\n      <td>1767500.0</td>\n      <td>NaN</td>\n      <td>1.632038</td>\n      <td>USA</td>\n      <td>98624.722191</td>\n      <td>NaN</td>\n    </tr>\n    <tr>\n      <th>84000055.0</th>\n      <td>Wisconsin</td>\n      <td>US</td>\n      <td>2021-01-18 05:30:33</td>\n      <td>44.2685</td>\n      <td>-89.6165</td>\n      <td>568166</td>\n      <td>5906</td>\n      <td>490043.0</td>\n      <td>72217.0</td>\n      <td>55.0</td>\n      <td>9758.221390</td>\n      <td>5798072.0</td>\n      <td>NaN</td>\n      <td>1.039485</td>\n      <td>USA</td>\n      <td>99581.583922</td>\n      <td>NaN</td>\n    </tr>\n    <tr>\n      <th>84000056.0</th>\n      <td>Wyoming</td>\n      <td>US</td>\n      <td>2021-01-18 05:30:33</td>\n      <td>42.7560</td>\n      <td>-107.3025</td>\n      <td>49363</td>\n      <td>522</td>\n      <td>46820.0</td>\n      <td>2021.0</td>\n      <td>56.0</td>\n      <td>8529.111426</td>\n      <td>549805.0</td>\n      <td>NaN</td>\n      <td>1.057472</td>\n      <td>USA</td>\n      <td>94997.226825</td>\n      <td>NaN</td>\n    </tr>\n  </tbody>\n</table>\n<p>2900 rows × 17 columns</p>\n</div>"
     },
     "metadata": {}
    }
   ],
   "source": [
    "df_master = pd.DataFrame()\n",
    "flag = False\n",
    "\n",
    "import glob\n",
    "from zipfile import ZipFile\n",
    "\n",
    "path = r'**csv_files/csse_covid_19_daily_reports_us.zip' # use your path\n",
    "\n",
    "#all_files = glob.glob(path + \"/*.zip\")\n",
    "all_files = glob.glob(path)\n",
    "print(\"all files : \", all_files)\n",
    "for filename in all_files:    \n",
    "    zip_file = ZipFile(filename)\n",
    "    for text_file in zip_file.infolist():\n",
    "        print(text_file.filename)\n",
    "        if text_file.filename.endswith('.csv'):\n",
    "            df = pd.read_csv(zip_file.open(text_file.filename),header=0,index_col=['UID'])\n",
    "        if not flag:\n",
    "            df_master = df\n",
    "            flag = True\n",
    "        else:\n",
    "            df_master = pd.concat([df_master, df])\n",
    "\n",
    "print(df_master.info())\n",
    "print(\"shape of master_dataframe : \", df_master.shape)\n",
    "display(df_master)\n"
   ]
  },
  {
   "cell_type": "code",
   "execution_count": null,
   "metadata": {},
   "outputs": [],
   "source": []
  },
  {
   "cell_type": "code",
   "execution_count": null,
   "metadata": {},
   "outputs": [],
   "source": []
  },
  {
   "cell_type": "code",
   "execution_count": null,
   "metadata": {},
   "outputs": [],
   "source": []
  },
  {
   "cell_type": "code",
   "execution_count": null,
   "metadata": {},
   "outputs": [],
   "source": []
  },
  {
   "cell_type": "code",
   "execution_count": null,
   "metadata": {},
   "outputs": [],
   "source": []
  },
  {
   "cell_type": "code",
   "execution_count": null,
   "metadata": {},
   "outputs": [],
   "source": []
  }
 ]
}