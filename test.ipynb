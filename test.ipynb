{
 "cells": [
  {
   "cell_type": "code",
   "execution_count": null,
   "metadata": {},
   "outputs": [],
   "source": [
    "import pandas as pd\n",
    "import glob\n",
    "import re\n",
    "from zipfile import ZipFile"
   ]
  },
  {
   "cell_type": "code",
   "execution_count": null,
   "metadata": {},
   "outputs": [],
   "source": [
    "def init_dataframe_from_zip(path, index_col):\n",
    "    df_master = pd.DataFrame()\n",
    "    flag = False\n",
    "    files_in_folder = glob.glob(path)\n",
    "    for filename in files_in_folder:    \n",
    "        zip_file = ZipFile(filename)\n",
    "        for text_file in zip_file.infolist():\n",
    "            if text_file.filename.endswith('.csv'):\n",
    "                df = pd.read_csv(zip_file.open(text_file.filename),header=0,index_col=[index_col])\n",
    "            if not flag:\n",
    "                df_master = df\n",
    "                flag = True\n",
    "            else:\n",
    "                df_master = pd.concat([df_master, df])\n",
    "    return df_master\n",
    "\n",
    "csse_covid_19_daily_reports_us = init_dataframe_from_zip(r'**csv_files/csse_covid_19_daily_reports_us.zip', 'UID')\n",
    "csse_covid_19_daily_reports_us.head()\n"
   ]
  },
  {
   "cell_type": "code",
   "execution_count": null,
   "metadata": {},
   "outputs": [],
   "source": [
    "def init_state_social_distancing_actions(path):\n",
    "    df_master = pd.DataFrame()\n",
    "    flag = False\n",
    "    files_in_folder = glob.glob(path)\n",
    "    for filename in files_in_folder:    \n",
    "        zip_file = ZipFile(filename)\n",
    "        for text_file in zip_file.infolist():\n",
    "            # if not text_file.filename.startswith('__MACOSX/'):\n",
    "            if text_file.filename.endswith('.csv'):\n",
    "                date = re.search('\\d*-\\d*-\\d*', text_file.filename)[0]\n",
    "                if date == \"20201-06-01\":\n",
    "                    date = \"2021-06-01\"\n",
    "                date_time_value = pd.to_datetime(date)\n",
    "                df = pd.read_csv(zip_file.open(text_file.filename), sep=\",\", header=0)\n",
    "                df[\"Date\"] = date_time_value\n",
    "                df.rename(columns = {'Unnamed: 0':'State'}, inplace = True)\n",
    "                df.drop((df[df.State.isin([\"United States\"])].index) | (df[df.State.isnull()].index), inplace=True)\n",
    "            if not flag:\n",
    "                df_master = df\n",
    "                flag = True\n",
    "            else:\n",
    "                df_master = pd.concat([df_master, df])\n",
    "    df_master.set_index([\"Date\", \"State\"], inplace=True)\n",
    "    df_master.sort_index(inplace=True)\n",
    "    return df_master\n",
    "\n",
    "state_social_distancing_actions = init_state_social_distancing_actions(r'**csv_files/state_social_distancing_actions.zip')"
   ]
  },
  {
   "cell_type": "code",
   "execution_count": null,
   "metadata": {},
   "outputs": [],
   "source": [
    "def clean_state_social_distancing_actions(df):\n",
    "  # TODO: Remove cells we don't want\n",
    "  df = df.drop(columns=[\"Primary Election Postponement\"])\n",
    "  return df\n",
    "\n",
    "cleaned_state_social_distancing_actions = clean_state_social_distancing_actions(state_social_distancing_actions)\n",
    "cleaned_state_social_distancing_actions"
   ]
  },
  {
   "cell_type": "code",
   "execution_count": null,
   "metadata": {},
   "outputs": [],
   "source": []
  },
  {
   "cell_type": "code",
   "execution_count": null,
   "metadata": {},
   "outputs": [],
   "source": [
    "california_data = cleaned_state_social_distancing_actions[cleaned_state_social_distancing_actions.index.get_level_values('State').isin(['California'])]\n",
    "california_data"
   ]
  },
  {
   "cell_type": "code",
   "execution_count": null,
   "metadata": {},
   "outputs": [],
   "source": []
  }
 ],
 "metadata": {
  "kernelspec": {
   "display_name": "Python 3.8.5 64-bit ('base': conda)",
   "metadata": {
    "interpreter": {
     "hash": "344443636c3027c5042750c9c609acdda283a9c43681b128a8c1053e7ad2aa7d"
    }
   },
   "name": "python3"
  },
  "language_info": {
   "codemirror_mode": {
    "name": "ipython",
    "version": 3
   },
   "file_extension": ".py",
   "mimetype": "text/x-python",
   "name": "python",
   "nbconvert_exporter": "python",
   "pygments_lexer": "ipython3",
   "version": "3.8.3"
  },
  "orig_nbformat": 2
 },
 "nbformat": 4,
 "nbformat_minor": 2
}
