{
 "cells": [
  {
   "cell_type": "code",
   "execution_count": null,
   "metadata": {},
   "outputs": [],
   "source": [
    "import pandas as pd\n",
    "import numpy as np\n",
    "import glob\n",
    "import re\n",
    "import matplotlib.pyplot as plt\n",
    "import seaborn as sns\n",
    "from zipfile import ZipFile\n",
    "import sys\n",
    "!{sys.executable} -m pip install xlrd"
   ]
  },
  {
   "cell_type": "code",
   "execution_count": null,
   "metadata": {},
   "outputs": [],
   "source": [
    "def init_restriction_df(path, index_col):\n",
    "    df_master = pd.read_csv(glob.glob(path)[0], compression='zip', header=0, sep=',', index_col=index_col)\n",
    "    return df_master\n",
    "\n",
    "restrictions_df = init_restriction_df(r'csv_files/updated_restrictions.csv.zip', [\"STATE\"])\n",
    "restrictions_df = restrictions_df[restrictions_df.index.notnull()]\n",
    "restrictions_df.replace(\"0\", np.nan, inplace=True)\n",
    "restrictions_df\n"
   ]
  },
  {
   "cell_type": "code",
   "execution_count": null,
   "metadata": {},
   "outputs": [],
   "source": [
    "restrictions_df = restrictions_df.loc[\"California\":] \n",
    "masks_df = restrictions_df.loc[:, [\"FM_ALL\", \"FM_ALL2\", \"FM_END\", \"FM_END2\"]] # Here there are more fields that one could look at\n",
    "day_care_df = restrictions_df.loc[:, [\"CLDAYCR\", \"OPNCLDCR\"]] # Dataset don't include school reopening\n",
    "stay_at_home_df = restrictions_df.loc[:, [\"STAYHOME\", \"END_STHM\"]]\n",
    "close_businesses = restrictions_df.loc[:, [\"CLBSNS\", \"END_BSNS\"]]\n",
    "double_restrictions = restrictions_df.loc[:, [\"CLREST\", \"ENDREST\", \"CLRST2\", \"ENDREST2\", \"CLGYM\", \"ENDGYM\", \"CLGYM2\", \"END_CLGYM2\", \"CLMOVIE\", \"END_MOV\", \"CLMV2\", \"END_CLMV2\", \"CLOSEBAR\", \"END_BRS\", \"BCLBAR2\", \"END_BRS2\"]]\n"
   ]
  },
  {
   "cell_type": "code",
   "execution_count": null,
   "metadata": {},
   "outputs": [],
   "source": [
    "start_date = \"2020-06-04\"\n",
    "end_date = \"2022-03-28\"\n",
    "\n",
    "def add_missing_data(df, start, end):\n",
    "  days_idx = pd.date_range(start=start, end=end, freq=\"D\")\n",
    "  days_with_missing_data = df.reindex(days_idx, fill_value=0)\n",
    "  days_with_missing_data.index.names = ['date']\n",
    "  df = days_with_missing_data.append(df)\n",
    "  return df"
   ]
  },
  {
   "cell_type": "code",
   "execution_count": null,
   "metadata": {},
   "outputs": [],
   "source": [
    "single_restr = restrictions_df.loc[:, [\"CLDAYCR\", \"OPNCLDCR\", \"STAYHOME\", \"END_STHM\", \"CLBSNS\", \"END_BSNS\"]]\n",
    "\n",
    "single_restrictions = pd.DataFrame({})\n",
    "\n",
    "for i, j in zip(range(0, len(single_restr.columns), 2), range(1, len(single_restr.columns)+1, 2)):\n",
    "  start_day = single_restr.columns[i]\n",
    "  end_day = single_restr.columns[j]\n",
    "  dates = single_restr.loc[\"California\", [start_day, end_day]]\n",
    "  \n",
    "  if (isinstance(dates[0], str) and isinstance(dates[1], str)):\n",
    "    new_df = pd.DataFrame({'date': pd.date_range(dates[0], dates[1]), \n",
    "                    single_restr.columns[i]: 1\n",
    "                    }).set_index(\"date\")\n",
    "    fill_start = add_missing_data(new_df, start_date, dates[0]) # now we will overwrite the first and last date\n",
    "    fill_end = add_missing_data(fill_start, dates[1], end_date)#.loc[\"2020-06-04\" : \"2022-03-28\"]\n",
    "    fill_end = fill_end[~fill_end.index.duplicated(keep='first')]\n",
    "    single_restrictions = pd.concat([single_restrictions, fill_end], axis=1)\n",
    "single_restrictions.fillna(0)\n",
    "single_restrictions.rename(columns={\"STAYHOME\": \"Stay at home order\", \"CLBSNS\": \"Closed other non-essential businesses\", \"CLDAYCR\": \"Closed day cares\"}, inplace=True)\n",
    "single_restrictions"
   ]
  },
  {
   "cell_type": "code",
   "execution_count": null,
   "metadata": {},
   "outputs": [],
   "source": [
    "double_restrictions_conv = pd.DataFrame({})\n",
    "\n",
    "for i in range(0, len(double_restrictions.columns), 4):\n",
    "  start_day_first = double_restrictions.columns[i]\n",
    "  end_day_first = double_restrictions.columns[i+1]\n",
    "  start_day_second = double_restrictions.columns[i+2]\n",
    "  end_day_second = double_restrictions.columns[i+3]\n",
    "  dates_first = double_restrictions.loc[\"California\", [start_day_first, end_day_first]]\n",
    "  dates_second = double_restrictions.loc[\"California\", [start_day_second, end_day_second]]\n",
    "  \n",
    "  if (isinstance(dates_first[0], str) and isinstance(dates_first[1], str)):\n",
    "    new_df = pd.DataFrame({'date': pd.date_range(dates_first[0], dates_first[1]), \n",
    "                    double_restrictions.columns[i]: 1\n",
    "                    }).set_index(\"date\")\n",
    "    fill_start = add_missing_data(new_df, start_date, dates_first[0]) # now we might overwrite the first and last date\n",
    "    fill_end = add_missing_data(fill_start, dates_first[1], end_date)#.loc[\"2020-06-04\" : \"2022-03-28\"]\n",
    "    fill_end = fill_end[~fill_end.index.duplicated(keep='first')]\n",
    "\n",
    "    if (isinstance(dates_second[0], str) and isinstance(dates_second[1], str)):\n",
    "      fill_end.loc[dates_second[0]:dates_second[1], double_restrictions.columns[i]] = 1\n",
    "\n",
    "    double_restrictions_conv = pd.concat([double_restrictions_conv, fill_end], axis=1)\n",
    "\n",
    "double_restrictions_conv = double_restrictions_conv.fillna(0)\n",
    "double_restrictions_conv.rename(columns={\"CLREST\": \"Closed restaurants\", \"CLGYM\": \"Closed gym\", \"CLMOVIE\": \"Closed movie theaters\", \"CLOSEBAR\": \"Closed bars\"}, inplace=True)\n",
    "double_restrictions_conv\n"
   ]
  },
  {
   "cell_type": "code",
   "execution_count": null,
   "metadata": {},
   "outputs": [],
   "source": [
    "\n",
    "combined_restrictions = pd.concat([double_restrictions_conv, single_restrictions], axis=1)\n",
    "sns.heatmap(combined_restrictions==1, yticklabels = False, cbar = False, cmap='viridis');\n"
   ]
  },
  {
   "cell_type": "code",
   "execution_count": null,
   "metadata": {},
   "outputs": [],
   "source": []
  }
 ],
 "metadata": {
  "interpreter": {
   "hash": "949777d72b0d2535278d3dc13498b2535136f6dfe0678499012e853ee9abcab1"
  },
  "kernelspec": {
   "display_name": "Python 3.8.3 64-bit",
   "language": "python",
   "name": "python3"
  },
  "language_info": {
   "name": "python",
   "version": "3.8.3"
  },
  "orig_nbformat": 4
 },
 "nbformat": 4,
 "nbformat_minor": 2
}
