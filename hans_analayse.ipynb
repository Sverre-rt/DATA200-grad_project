{
 "cells": [
  {
   "cell_type": "code",
   "execution_count": null,
   "metadata": {},
   "outputs": [],
   "source": [
    "import pandas as pd\n",
    "import seaborn as sns"
   ]
  },
  {
   "cell_type": "code",
   "execution_count": null,
   "metadata": {},
   "outputs": [],
   "source": [
    "import glob\n",
    "from zipfile import ZipFile\n",
    "\n",
    "def init_dataframe_from_zip(path, index_col):\n",
    "    df_master = pd.DataFrame()\n",
    "    flag = False\n",
    "    files_in_folder = glob.glob(path)\n",
    "    for filename in files_in_folder:    \n",
    "        zip_file = ZipFile(filename)\n",
    "        for text_file in zip_file.infolist():\n",
    "            if text_file.filename.endswith('.csv'):\n",
    "                df = pd.read_csv(zip_file.open(text_file.filename),header=0,index_col=[index_col])\n",
    "                if not flag:\n",
    "                    df_master = df\n",
    "                    flag = True\n",
    "                else:\n",
    "                    df_master = pd.concat([df_master, df])\n",
    "                \n",
    "    return df_master\n",
    "\n",
    "csse_covid_19_daily_reports_us = init_dataframe_from_zip(r'**csv_files/csse_covid_19_daily_reports_us.zip', 'UID')\n",
    "#display(csse_covid_19_daily_reports_us)\n",
    "\n",
    "display(csse_covid_19_daily_reports_us)"
   ]
  },
  {
   "cell_type": "code",
   "execution_count": null,
   "metadata": {},
   "outputs": [],
   "source": [
    "df_sex_age = pd.read_csv('csv_files/cdc_death_counts_by_sex_age_state.zip',header=0)\n",
    "df_sex_age"
   ]
  },
  {
   "cell_type": "code",
   "execution_count": null,
   "metadata": {},
   "outputs": [],
   "source": [
    "df_condition = pd.read_csv('csv_files/cdc_death_counts_by_conditons.zip',header=0)\n",
    "print(display(df_condition))"
   ]
  },
  {
   "cell_type": "markdown",
   "metadata": {},
   "source": [
    "### Data Cleaning ###"
   ]
  },
  {
   "cell_type": "code",
   "execution_count": null,
   "metadata": {},
   "outputs": [],
   "source": [
    "#To-Do\n",
    "#Legge på tittel på begge nullplotsene, og legge de inn ved siden av hverandre\n",
    "\n",
    "\n",
    "\n",
    "#sns.heatmap(df_condition.isnull(),yticklabels = False, cbar = False, cmap='viridis')\n",
    "#As we can see on the plot below, not many of our columns (that we are currently using) contains a lot of null values.\n",
    "#Except Covid 19-Deaths.. we should look further into that.\n",
    "\n",
    "sns.heatmap(df_sex_age.isnull(),yticklabels = False, cbar = False, cmap='viridis')\n",
    "#As we can see there are a LOT of null values in important columns..\n",
    "#Before we decide to with them lets remove irrelevant rows."
   ]
  },
  {
   "cell_type": "markdown",
   "metadata": {},
   "source": [
    "\n",
    "### Remove Irrelevant 'states' "
   ]
  },
  {
   "cell_type": "code",
   "execution_count": null,
   "metadata": {},
   "outputs": [],
   "source": [
    "\n",
    "states = ['Alabama','Alaska','Arizona','Arkansas','California','Colorado','Connecticut','Delaware','Florida','Georgia','Hawaii','Idaho','Illinois','Indiana','Iowa','Kansas','Kentucky','Louisiana','Maine','Maryland','Massachusetts','Michigan','Minnesota','Mississippi','Missouri','Montana','Nebraska','Nevada','New Hampshire','New Jersey','New Mexico','New York','North Carolina','North Dakota','Ohio','Oklahoma','Oregon','Pennsylvania','Rhode Island','South Carolina','South Dakota','Tennessee','Texas','Utah','Vermont','Virginia','Washington','West Virginia','Wisconsin','Wyoming']\n",
    "df_sex_age = df_sex_age[df_sex_age[\"State\"].isin(states) == True]\n",
    "\n",
    "\n",
    "states = ['Alabama','Alaska','Arizona','Arkansas','California','Colorado','Connecticut','Delaware','Florida','Georgia','Hawaii','Idaho','Illinois','Indiana','Iowa','Kansas','Kentucky','Louisiana','Maine','Maryland','Massachusetts','Michigan','Minnesota','Mississippi','Missouri','Montana','Nebraska','Nevada','New Hampshire','New Jersey','New Mexico','New York','North Carolina','North Dakota','Ohio','Oklahoma','Oregon','Pennsylvania','Rhode Island','South Carolina','South Dakota','Tennessee','Texas','Utah','Vermont','Virginia','Washington','West Virginia','Wisconsin','Wyoming']\n",
    "df = df_condition[df_condition[\"State\"].isin(states) == True]\n"
   ]
  },
  {
   "cell_type": "markdown",
   "metadata": {},
   "source": [
    "#### Seperate only by month"
   ]
  },
  {
   "cell_type": "code",
   "execution_count": null,
   "metadata": {},
   "outputs": [],
   "source": [
    "df_sex_age = df_sex_age[df_sex_age[\"Group\"]== 'By Month']\n",
    "\n",
    "df_condition = df_condition[df_condition[\"Group\"]== 'By Month']\n"
   ]
  },
  {
   "cell_type": "markdown",
   "metadata": {},
   "source": [
    "### Analysis ###"
   ]
  },
  {
   "cell_type": "code",
   "execution_count": null,
   "metadata": {},
   "outputs": [],
   "source": [
    "df_sex_age[\"End Date\"] = pd.to_datetime(df_sex_age[\"End Date\"])"
   ]
  },
  {
   "cell_type": "code",
   "execution_count": null,
   "metadata": {},
   "outputs": [],
   "source": [
    "#sns.relplot(x=\"End Date\", y=\"COVID-19 Deaths\", hue=\"Age Group\",kind='line', data=df_sex_age_grouped,height=20, aspect=1.2)"
   ]
  },
  {
   "cell_type": "code",
   "execution_count": null,
   "metadata": {},
   "outputs": [],
   "source": [
    "#sns.relplot(x=\"End Date\", y=\"COVID-19 Deaths\", hue=\"Age Group\",kind='line', data=grouped_df_age,height=20, aspect=1.2)\n",
    "import plotly as go\n",
    "import plotly.graph_objects as go\n",
    "\n",
    "import plotly.graph_objs as go\n",
    "import pandas as pd\n",
    "from plotly.offline import iplot, init_notebook_mode\n",
    "init_notebook_mode()\n",
    "\n",
    "fig = go.Figure()\n",
    "\n",
    "df_sex_age_grouped = pd.DataFrame(df_sex_age.groupby(['End Date','Age Group'])[\"COVID-19 Deaths\"].sum())\n",
    "df_sex_age_grouped = df_sex_age_grouped.reset_index()\n",
    "#display(grouped_df_age)\n",
    "#fig.add_trace(go.Scatter(grouped_df_age, x=\"End Date\", y='COVID-19 Deaths', color=\"Age Group\",line_group=\"Age Group\"))\n",
    "\n",
    "#region, geo_region in geo.groupby('Geographical region'):\n",
    "    \n",
    "for name, frame in df_sex_age_grouped.groupby('Age Group'):\n",
    "    fig.add_scatter(x=frame['End Date'], y=frame['COVID-19 Deaths'], name=name, mode='lines')\n",
    "\n",
    "fig.update_layout(title='Total Deaths in the USA by year and age',xaxis={'title':'Date'},yaxis={'title':'Number of Deaths'})\n",
    "iplot(fig)"
   ]
  },
  {
   "cell_type": "code",
   "execution_count": null,
   "metadata": {},
   "outputs": [],
   "source": [
    "fig = go.Figure()\n",
    "df_sex_age_cali = df_sex_age[df_sex_age['State']=='California']\n",
    "df_sex_age_grouped = pd.DataFrame(df_sex_age_cali.groupby(['End Date','Age Group'])[\"COVID-19 Deaths\"].sum())\n",
    "df_sex_age_grouped = df_sex_age_grouped.reset_index()\n",
    "#display(grouped_df_age)\n",
    "#fig.add_trace(go.Scatter(grouped_df_age, x=\"End Date\", y='COVID-19 Deaths', color=\"Age Group\",line_group=\"Age Group\"))\n",
    "\n",
    "#region, geo_region in geo.groupby('Geographical region'):\n",
    "    \n",
    "for name, frame in df_sex_age_grouped.groupby('Age Group'):\n",
    "    fig.add_scatter(x=frame['End Date'], y=frame['COVID-19 Deaths'], name=name, mode='lines')\n",
    "\n",
    "fig.update_layout(title='Total Deaths in California by year and age',xaxis={'title':'Date'},yaxis={'title':'Number of Deaths'})\n",
    "iplot(fig)"
   ]
  },
  {
   "cell_type": "code",
   "execution_count": null,
   "metadata": {},
   "outputs": [],
   "source": [
    "fig = go.Figure()\n",
    "df_sex_age_cali = df_sex_age[df_sex_age['State']=='California']\n",
    "df_sex_age_grouped = pd.DataFrame(df_sex_age_cali.groupby(['End Date','Sex'])[\"COVID-19 Deaths\"].sum())\n",
    "df_sex_age_grouped = df_sex_age_grouped.reset_index()\n",
    "#display(grouped_df_age)\n",
    "#fig.add_trace(go.Scatter(grouped_df_age, x=\"End Date\", y='COVID-19 Deaths', color=\"Age Group\",line_group=\"Age Group\"))\n",
    "\n",
    "#region, geo_region in geo.groupby('Geographical region'):\n",
    "    \n",
    "for name, frame in df_sex_age_grouped.groupby('Sex'):\n",
    "    fig.add_scatter(x=frame['End Date'], y=frame['COVID-19 Deaths'], name=name, mode='lines')\n",
    "\n",
    "fig.update_layout(title='Total Deaths in California by year and Sex',xaxis={'title':'Date'},yaxis={'title':'Number of Deaths'})\n",
    "iplot(fig)"
   ]
  },
  {
   "cell_type": "code",
   "execution_count": null,
   "metadata": {},
   "outputs": [],
   "source": [
    "#turn end date into datetime object\n",
    "df_condition[\"End Date\"] = pd.to_datetime(df_condition[\"End Date\"])"
   ]
  },
  {
   "cell_type": "code",
   "execution_count": null,
   "metadata": {},
   "outputs": [],
   "source": [
    "#sns.relplot(x=\"End Date\", y=\"COVID-19 Deaths\", hue=\"Age Group\",kind='line', data=grouped_df_age,height=20, aspect=1.2)\n",
    "import plotly as go\n",
    "import plotly.graph_objects as go\n",
    "\n",
    "import plotly.graph_objs as go\n",
    "import pandas as pd\n",
    "from plotly.offline import iplot, init_notebook_mode\n",
    "init_notebook_mode()\n",
    "\n",
    "fig = go.Figure()\n",
    "\n",
    "grouped_df_condition = pd.DataFrame(df_condition.groupby(['End Date','Condition Group'])[\"COVID-19 Deaths\"].sum())\n",
    "grouped_df_condition = grouped_df_condition.reset_index()\n",
    "#display(grouped_df_age)\n",
    "#fig.add_trace(go.Scatter(grouped_df_age, x=\"End Date\", y='COVID-19 Deaths', color=\"Age Group\",line_group=\"Age Group\"))\n",
    "\n",
    "fig = go.Figure()\n",
    "#region, geo_region in geo.groupby('Geographical region'):\n",
    "    \n",
    "for name, frame in grouped_df_condition.groupby('Condition Group'):\n",
    "    fig.add_scatter(x=frame['End Date'], y=frame['COVID-19 Deaths'], name=name, mode='lines')\n",
    "fig.update_layout(title='Total Deaths in California by year and Condition',xaxis={'title':'Date'},yaxis={'title':'Number of Deaths'})\n",
    "iplot(fig)\n",
    "\n",
    "#Kommentar til figuren og datasettet\n",
    "#Vet ikke helt om en som dør av respiratory diseases blir påvirket av covid-death..\n"
   ]
  },
  {
   "cell_type": "code",
   "execution_count": null,
   "metadata": {},
   "outputs": [],
   "source": []
  }
 ],
 "metadata": {
  "kernelspec": {
   "display_name": "Python 3",
   "language": "python",
   "name": "python3"
  },
  "language_info": {
   "codemirror_mode": {
    "name": "ipython",
    "version": 3
   },
   "file_extension": ".py",
   "mimetype": "text/x-python",
   "name": "python",
   "nbconvert_exporter": "python",
   "pygments_lexer": "ipython3",
   "version": "3.8.5"
  }
 },
 "nbformat": 4,
 "nbformat_minor": 2
}
