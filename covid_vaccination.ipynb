{
 "cells": [
  {
   "cell_type": "code",
   "execution_count": null,
   "metadata": {},
   "outputs": [],
   "source": [
    "import pandas as pd\n",
    "import glob\n",
    "import re\n",
    "import matplotlib.pyplot as plt\n",
    "import seaborn as sns\n",
    "from zipfile import ZipFile"
   ]
  },
  {
   "cell_type": "code",
   "execution_count": null,
   "metadata": {},
   "outputs": [],
   "source": [
    "def init_vaccination_df_from_zip(path, index_col):\n",
    "    df_master = pd.read_csv(glob.glob(path)[0], compression='zip', header=0, sep=',', index_col=index_col)\n",
    "    return df_master\n",
    "\n",
    "vaccination_df = init_vaccination_df_from_zip(r'**csv_files/COVID-19_Vaccinations_in_the_United_States_Jurisdiction.csv.zip', [\"Date\"])\n",
    "vaccination_df = vaccination_df[vaccination_df[\"Location\"] == \"CA\"]\n",
    "vaccination_df.index = pd.to_datetime(vaccination_df.index)\n",
    "vaccination_df.sort_index(inplace=True)\n",
    "vaccination_df#[\"Administered\"]"
   ]
  },
  {
   "cell_type": "markdown",
   "metadata": {},
   "source": [
    "Add ekstra columns to have the same time-range as the other datasets\n",
    "- Insert 0 as the number of vaccinated since no-one was vaccinated at the first date of the current df"
   ]
  },
  {
   "cell_type": "code",
   "execution_count": null,
   "metadata": {},
   "outputs": [],
   "source": [
    "days_idx = pd.date_range(start=\"2020-06-04\", end=\"2020-12-13\", freq=\"D\")\n",
    "days_with_missing_data = vaccination_df.reindex(days_idx, fill_value=0)\n",
    "days_with_missing_data[\"Location\"] = \"CA\"\n",
    "days_with_missing_data.index.names = ['Date']\n",
    "vaccination_df = days_with_missing_data.append(vaccination_df)\n",
    "vaccination_df"
   ]
  },
  {
   "cell_type": "code",
   "execution_count": null,
   "metadata": {},
   "outputs": [],
   "source": [
    "sns.set(rc = {'figure.figsize':(15,8)})\n",
    "plot = sns.lineplot(x = \"Date\", y = \"Administered\", data = vaccination_df)\n",
    "plot.set(xlabel='Date', ylabel='Total number of doses (1e6)')\n",
    "plot.set_title('Total number of vaccinations registered in California over time');\n",
    "plt.xticks(rotation = 25);"
   ]
  },
  {
   "cell_type": "code",
   "execution_count": null,
   "metadata": {},
   "outputs": [],
   "source": []
  }
 ],
 "metadata": {
  "interpreter": {
   "hash": "949777d72b0d2535278d3dc13498b2535136f6dfe0678499012e853ee9abcab1"
  },
  "kernelspec": {
   "display_name": "Python 3.8.3 64-bit",
   "language": "python",
   "name": "python3"
  },
  "language_info": {
   "codemirror_mode": {
    "name": "ipython",
    "version": 3
   },
   "file_extension": ".py",
   "mimetype": "text/x-python",
   "name": "python",
   "nbconvert_exporter": "python",
   "pygments_lexer": "ipython3",
   "version": "3.8.3"
  },
  "orig_nbformat": 4
 },
 "nbformat": 4,
 "nbformat_minor": 2
}
