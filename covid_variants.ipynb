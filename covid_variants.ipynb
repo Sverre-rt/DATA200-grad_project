{
 "cells": [
  {
   "cell_type": "markdown",
   "metadata": {},
   "source": [
    "## Covid variant data\n",
    "\n",
    "Imported from: https://github.com/hodcroftlab/covariants/blob/master/cluster_tables/USAClusters_data.json"
   ]
  },
  {
   "cell_type": "code",
   "execution_count": null,
   "metadata": {},
   "outputs": [],
   "source": [
    "import pandas as pd\n",
    "import glob\n",
    "import re\n",
    "import matplotlib.pyplot as plt\n",
    "import seaborn as sns\n",
    "from zipfile import ZipFile\n",
    "import numpy as np\n"
   ]
  },
  {
   "cell_type": "code",
   "execution_count": null,
   "metadata": {},
   "outputs": [],
   "source": [
    "def init_virus_variant_df(path):\n",
    "    df = pd.read_json(glob.glob(path)[0], compression='zip', orient=\"records\")\n",
    "    df.index.names = ['County']\n",
    "    df.drop(\"plotting_dates\", axis=1, inplace=True)\n",
    "    df.drop([\"min_date\", \"max_date\"], axis=0, inplace=True)\n",
    "\n",
    "    ca_df = df[df.index == \"California\"][\"countries\"]\n",
    "    normalized = pd.json_normalize(ca_df)\n",
    "\n",
    "    full_data = []\n",
    "    for i in range(len(normalized[\"week\"][0])):\n",
    "        one_date = []\n",
    "        for col_name in normalized.columns:\n",
    "            one_date.append(normalized[col_name][0][i])\n",
    "        full_data.append(one_date)\n",
    "    df_output = pd.DataFrame(data=full_data, columns=normalized.columns)\n",
    "    df_output[\"State\"] = \"California\"\n",
    "    # Get State at front\n",
    "    cols = list(df_output.columns)\n",
    "    cols = [cols[-1]] + cols[:-1]\n",
    "    ordered_df = df_output[cols]\n",
    "    ordered_df.set_index(\"week\", inplace=True)\n",
    "\n",
    "    # ALL THE STATES HAVE DIFFERENT LENGTH ON THE NUMBER OF FIELDS SO NEED TO TAKE AN APPROACH NOT USING LISTS BUT \n",
    "    # MERGING DATAFRAMES RIGHT AWAY\n",
    "    # ca_df = df[df.index == \"California\"][\"countries\"]\n",
    "    # ca_normalized = pd.json_normalize(ca_df)\n",
    "\n",
    "    # all_states = []\n",
    "\n",
    "    # for state in df.index.values:\n",
    "    #     state_df = df[df.index == state][\"countries\"]\n",
    "    #     normalized = pd.json_normalize(state_df)\n",
    "    #     full_data = []\n",
    "    #     if len(normalized.columns) < len(ca_normalized.columns):\n",
    "    #         print(\"STATE HAVE LESS FIELDS:\", state)\n",
    "    #     for i in range(len(normalized[\"week\"][0])):\n",
    "    #         one_date = []\n",
    "    #         for col_name in normalized.columns:\n",
    "    #             one_date.append(normalized[col_name][0][i])\n",
    "    #         full_data.append(one_date)\n",
    "    #     all_states.append(full_data)\n",
    "\n",
    "    # df_all_states = pd.DataFrame(data=full_data, columns=ca_normalized.columns)\n",
    "    return ordered_df\n",
    "\n",
    "virus_variants_df = init_virus_variant_df(r'**csv_files/USAClusters_data.json.zip')\n",
    "virus_variants_df"
   ]
  },
  {
   "cell_type": "code",
   "execution_count": null,
   "metadata": {},
   "outputs": [],
   "source": [
    "vaccination_df"
   ]
  },
  {
   "cell_type": "code",
   "execution_count": null,
   "metadata": {},
   "outputs": [],
   "source": []
  }
 ],
 "metadata": {
  "interpreter": {
   "hash": "949777d72b0d2535278d3dc13498b2535136f6dfe0678499012e853ee9abcab1"
  },
  "kernelspec": {
   "display_name": "Python 3.8.3 64-bit",
   "language": "python",
   "name": "python3"
  },
  "language_info": {
   "codemirror_mode": {
    "name": "ipython",
    "version": 3
   },
   "file_extension": ".py",
   "mimetype": "text/x-python",
   "name": "python",
   "nbconvert_exporter": "python",
   "pygments_lexer": "ipython3",
   "version": "3.8.3"
  },
  "orig_nbformat": 4
 },
 "nbformat": 4,
 "nbformat_minor": 2
}
