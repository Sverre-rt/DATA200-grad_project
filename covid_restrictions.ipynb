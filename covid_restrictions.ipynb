{
 "cells": [
  {
   "cell_type": "code",
   "execution_count": null,
   "metadata": {},
   "outputs": [],
   "source": [
    "import pandas as pd\n",
    "import glob\n",
    "import re\n",
    "import matplotlib.pyplot as plt\n",
    "import seaborn as sns\n",
    "from zipfile import ZipFile"
   ]
  },
  {
   "cell_type": "code",
   "execution_count": null,
   "metadata": {},
   "outputs": [],
   "source": [
    "def init_state_social_distancing_actions(path):\n",
    "  df_master = pd.DataFrame()\n",
    "  flag = False\n",
    "  files_in_folder = glob.glob(path)\n",
    "  for filename in files_in_folder:    \n",
    "    zip_file = ZipFile(filename)\n",
    "    for text_file in zip_file.infolist():\n",
    "      # if not text_file.filename.startswith('__MACOSX/'):\n",
    "      if text_file.filename.endswith('.csv'):\n",
    "        date = re.search('\\d*-\\d*-\\d*', text_file.filename)[0]\n",
    "        if date == \"20201-06-01\":\n",
    "          date = \"2021-06-01\"\n",
    "        date_time_value = pd.to_datetime(date)\n",
    "        df = pd.read_csv(zip_file.open(text_file.filename), sep=\",\", header=0)\n",
    "        df[\"Date\"] = date_time_value\n",
    "        df.rename(columns = {'Unnamed: 0':'State'}, inplace = True)\n",
    "        df.drop((df[df.State.isin([\"United States\"])].index) | (df[df.State.isnull()].index), inplace=True)\n",
    "      if not flag:\n",
    "        df_master = df\n",
    "        flag = True\n",
    "      else:\n",
    "        df_master = pd.concat([df_master, df])\n",
    "  df_master.set_index([\"Date\", \"State\"], inplace=True)\n",
    "  df_master.sort_index(inplace=True)\n",
    "  return df_master\n",
    "\n",
    "state_social_distancing_actions = init_state_social_distancing_actions(r'**csv_files/state_social_distancing_actions.zip')"
   ]
  },
  {
   "cell_type": "code",
   "execution_count": null,
   "metadata": {},
   "outputs": [],
   "source": [
    "def clean_state_social_distancing_actions(df):\n",
    "  df = df.drop(columns=[\"Primary Election Postponement\"])\n",
    "  return df\n",
    "\n",
    "cleaned_state_social_distancing_actions = clean_state_social_distancing_actions(state_social_distancing_actions)\n",
    "cleaned_state_social_distancing_actions"
   ]
  },
  {
   "cell_type": "markdown",
   "metadata": {},
   "source": [
    "Clean up the dataframe to remove unused columns and solve for Nan fields. \n",
    "- Have to manually insert face mask requirements for recent months based on: https://statepolicies.com/data/graphs/face-masks/\n",
    "- Face mask mandate was reintroduced from Dec 15, 2021 -> Feb 15, 2022"
   ]
  },
  {
   "cell_type": "code",
   "execution_count": null,
   "metadata": {},
   "outputs": [],
   "source": [
    "california_data = cleaned_state_social_distancing_actions[cleaned_state_social_distancing_actions.index.get_level_values('State').isin(['California'])]\n",
    "california_data.reset_index(\"State\", inplace=True)\n",
    "california_data = california_data[~california_data.index.duplicated(keep='first')]\n",
    "# Fill inn missing dates with rows equal the previous date with data\n",
    "days_idx = pd.date_range(start=california_data.index[0], end=\"2022-04-18\", freq=\"D\")\n",
    "california_data = california_data.reindex(days_idx, method=\"pad\")\n",
    "# Update facemask data\n",
    "california_data.loc[: \"2020-06-17\", \"Face Covering Requirement\"] = \"No\"\n",
    "california_data.loc[\"2020-06-18\" : \"2021-06-14\", \"Face Covering Requirement\"] = \"Yes\"\n",
    "california_data.loc[\"2021-06-15\" : \"2021-12-14\", \"Face Covering Requirement\"] = \"No\"\n",
    "california_data.loc[\"2021-12-15\" : \"2022-02-14\", \"Face Covering Requirement\"] = \"Yes\"\n",
    "california_data.loc[\"2022-02-15\" : , \"Face Covering Requirement\"] = \"No\"\n",
    "\n",
    "# TODO: Could add\n",
    "# - Stay at home order (https://statepolicies.com/data/graphs/stay-at-home-order/)\n",
    "# - Closed places like restuarants, schools, ... (https://statepolicies.com/data/graphs/reopening-2/)\n",
    "\n",
    "# Must add\n",
    "# - R number / infection rate\n",
    "# - Vaccination rate\n",
    "\n",
    "neccessary_ca_data = california_data[[\"Face Covering Requirement\", \"Large Gatherings Ban\"]]\n",
    "neccessary_ca_data\n"
   ]
  },
  {
   "cell_type": "code",
   "execution_count": null,
   "metadata": {},
   "outputs": [],
   "source": []
  }
 ],
 "metadata": {
  "interpreter": {
   "hash": "949777d72b0d2535278d3dc13498b2535136f6dfe0678499012e853ee9abcab1"
  },
  "kernelspec": {
   "display_name": "Python 3.8.3 64-bit",
   "language": "python",
   "name": "python3"
  },
  "language_info": {
   "codemirror_mode": {
    "name": "ipython",
    "version": 3
   },
   "file_extension": ".py",
   "mimetype": "text/x-python",
   "name": "python",
   "nbconvert_exporter": "python",
   "pygments_lexer": "ipython3",
   "version": "3.8.3"
  },
  "orig_nbformat": 4
 },
 "nbformat": 4,
 "nbformat_minor": 2
}
